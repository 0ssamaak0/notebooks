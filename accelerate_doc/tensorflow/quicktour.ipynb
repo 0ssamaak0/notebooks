{
 "cells": [
  {
   "cell_type": "markdown",
   "metadata": {},
   "source": [
    "# Quick tour"
   ]
  },
  {
   "cell_type": "markdown",
   "metadata": {},
   "source": [
    "Let's have a look at a look at 🤗 Accelerate main features and traps to avoid."
   ]
  },
  {
   "cell_type": "markdown",
   "metadata": {},
   "source": [
    "## Main use"
   ]
  },
  {
   "cell_type": "markdown",
   "metadata": {},
   "source": [
    "To use 🤗 Accelerate in your own script, you have to change four things:\n",
    "\n",
    "1. Import the [Accelerator](https://huggingface.co/docs/accelerate/main/en/accelerator#accelerate.Accelerator) main class instantiate one in an `accelerator` object:"
   ]
  },
  {
   "cell_type": "code",
   "execution_count": null,
   "metadata": {},
   "outputs": [],
   "source": [
    "from accelerate import Accelerator\n",
    "\n",
    "accelerator = Accelerator()"
   ]
  },
  {
   "cell_type": "markdown",
   "metadata": {},
   "source": [
    "This should happen as early as possible in your training script as it will initialize everything necessary for\n",
    "distributed training. You don't need to indicate the kind of environment you are in (just one machine with a GPU, one\n",
    "match with several GPUs, several machines with multiple GPUs or a TPU), the library will detect this automatically.\n",
    "\n",
    "2. Remove the call `.to(device)` or `.cuda()` for your model and input data. The `accelerator` object\n",
    "will handle this for you and place all those objects on the right device for you. If you know what you're doing, you\n",
    "can leave those `.to(device)` calls but you should use the device provided by the `accelerator` object:\n",
    "`accelerator.device`.\n",
    "\n",
    "To fully deactivate the automatic device placement, pass along `device_placement=False` when initializing your\n",
    "[Accelerator](https://huggingface.co/docs/accelerate/main/en/accelerator#accelerate.Accelerator).\n",
    "\n",
    "<Tip warning={true}>\n",
    "\n",
    "If you place your objects manually on the proper device, be careful to create your optimizer after putting your\n",
    "model on `accelerator.device` or your training will fail on TPU.\n",
    "\n",
    "</Tip>\n",
    "\n",
    "3. Pass all objects relevant to training (optimizer, model, training dataloader) to the\n",
    "[prepare()](https://huggingface.co/docs/accelerate/main/en/accelerator#accelerate.Accelerator.prepare) method. This will make sure everything is ready for training."
   ]
  },
  {
   "cell_type": "code",
   "execution_count": null,
   "metadata": {},
   "outputs": [],
   "source": [
    "model, optimizer, train_dataloader = accelerator.prepare(model, optimizer, train_dataloader)"
   ]
  },
  {
   "cell_type": "markdown",
   "metadata": {},
   "source": [
    "In particular, your training dataloader will be sharded accross all GPUs/TPU cores available so that each one sees a\n",
    "different portion of the training dataset. Also, the random states of all processes will be synchronized at the\n",
    "beginning of each iteration through your dataloader, to make sure the data is shuffled the same way (if you decided to\n",
    "use `shuffle=True` or any kind of random sampler).\n",
    "\n",
    "<Tip>\n",
    "\n",
    "The actual batch size for your training will be the number of devices used multiplied by the batch size you set in\n",
    "your script: for instance training on 4 GPUs with a batch size of 16 set when creating the training dataloader will\n",
    "train at an actual batch size of 64.\n",
    "\n",
    "</Tip>\n",
    "\n",
    "Alternatively, you can use the option `split_batches=True` when creating initializing your\n",
    "[Accelerator](https://huggingface.co/docs/accelerate/main/en/accelerator#accelerate.Accelerator), in which case the batch size will always stay the same, whether your run your\n",
    "script on 1, 2, 4 or 64 GPUs.\n",
    "\n",
    "You should execute this instruction as soon as all objects for training are created, before starting your actual\n",
    "training loop.\n",
    "\n",
    "<Tip warning={true}>\n",
    "\n",
    "Your training dataloader may change length when going through this method: if you run on X GPUs, it will have its\n",
    "length divided by X (since your actual batch size will be multiplied by X), unless you set\n",
    "`split_batches=True`.\n",
    "\n",
    "</Tip>\n",
    "\n",
    "Any instruction using your training dataloader length (for instance if you need the number of total training steps\n",
    "to create a learning rate scheduler) should go after the call to [prepare()](https://huggingface.co/docs/accelerate/main/en/accelerator#accelerate.Accelerator.prepare).\n",
    "\n",
    "You can perfectly send your dataloader to [prepare()](https://huggingface.co/docs/accelerate/main/en/accelerator#accelerate.Accelerator.prepare) on its own, but it's best to send the\n",
    "model and optimizer to [prepare()](https://huggingface.co/docs/accelerate/main/en/accelerator#accelerate.Accelerator.prepare) together.\n",
    "\n",
    "You may or may not want to send your validation dataloader to [prepare()](https://huggingface.co/docs/accelerate/main/en/accelerator#accelerate.Accelerator.prepare), depending on\n",
    "whether you want to run distributed evaluation or not (see below).\n",
    "\n",
    "4. Replace the line `loss.backward()` by `accelerator.backward(loss)`.\n",
    "\n",
    "And you're all set! With all these changes, your script will run on your local machine as well as on multiple GPUs or a\n",
    "TPU! You can either use your favorite tool to launch the distributed training, or you can use the 🤗 Accelerate\n",
    "launcher."
   ]
  },
  {
   "cell_type": "markdown",
   "metadata": {},
   "source": [
    "## Distributed evaluation"
   ]
  },
  {
   "cell_type": "markdown",
   "metadata": {},
   "source": [
    "You can perform regular evaluation in your training script, if you leave your validation dataloader out of the\n",
    "[prepare()](https://huggingface.co/docs/accelerate/main/en/accelerator#accelerate.Accelerator.prepare) method. In this case, you will need to put the input data on the\n",
    "`accelerator.device` manually.\n",
    "\n",
    "To perform distributed evaluation, send along your validation dataloader to the [prepare()](https://huggingface.co/docs/accelerate/main/en/accelerator#accelerate.Accelerator.prepare)\n",
    "method:"
   ]
  },
  {
   "cell_type": "code",
   "execution_count": null,
   "metadata": {},
   "outputs": [],
   "source": [
    "validation_dataloader = accelerator.prepare(validation_dataloader)"
   ]
  },
  {
   "cell_type": "markdown",
   "metadata": {},
   "source": [
    "Like for your training dataloader, it will mean that (should you run your script on multiple devices) each device will\n",
    "only see part of the evaluation data. This means you will need to group your predictions together. This is very easy to\n",
    "do with the [gather()](https://huggingface.co/docs/accelerate/main/en/accelerator#accelerate.Accelerator.gather) method."
   ]
  },
  {
   "cell_type": "code",
   "execution_count": null,
   "metadata": {},
   "outputs": [],
   "source": [
    "for inputs, targets in validation_dataloader:\n",
    "    predictions = model(inputs)\n",
    "    # Gather all predictions and targets\n",
    "    all_predictions = accelerator.gather(predictions)\n",
    "    all_targets = accelerator.gather(targets)\n",
    "    # Example of use with a *Datasets.Metric*\n",
    "    metric.add_batch(all_predictions, all_targets)"
   ]
  },
  {
   "cell_type": "markdown",
   "metadata": {},
   "source": [
    "<Tip warning={true}>\n",
    "\n",
    "Like for the training dataloader, passing your validation dataloader through\n",
    "[prepare()](https://huggingface.co/docs/accelerate/main/en/accelerator#accelerate.Accelerator.prepare) may change its: if you run on X GPUs, it will have its length divided by X\n",
    "(since your actual batch size will be multiplied by X), unless you set `split_batches=True`.\n",
    "\n",
    "Any instruction using your training dataloader length (for instance if you need the number of total training steps\n",
    "to create a learning rate scheduler) should go after the call to [prepare()](https://huggingface.co/docs/accelerate/main/en/accelerator#accelerate.Accelerator.prepare).\n",
    "\n",
    "</Tip>\n",
    "\n",
    "<Tip warning={true}>\n",
    "\n",
    "The [gather()](https://huggingface.co/docs/accelerate/main/en/accelerator#accelerate.Accelerator.gather) method requires the tensors to be all the same size on each process. If\n",
    "you have tensors of different sizes on each process (for instance when dynamically padding to the maximum length in\n",
    "a batch), you should use the [pad_across_processes()](https://huggingface.co/docs/accelerate/main/en/accelerator#accelerate.Accelerator.pad_across_processes) method to pad you tensor to the\n",
    "biggest size across processes.\n",
    "\n",
    "</Tip>"
   ]
  },
  {
   "cell_type": "markdown",
   "metadata": {},
   "source": [
    "## Launching your distributed script"
   ]
  },
  {
   "cell_type": "markdown",
   "metadata": {},
   "source": [
    "You can use the regular commands to launch your distributed training (like `torch.distributed.launch` for\n",
    "PyTorch), they are fully compatible with 🤗 Accelerate. The only caveat here is that 🤗 Accelerate uses the environment\n",
    "to determine all useful information, so `torch.distributed.launch` should be used with the flag `--use_env`.\n",
    "\n",
    "🤗 Accelerate also provides a CLI tool that unifies all launcher, so you only have to remember one command. To use it,\n",
    "just run\n",
    "\n",
    "```bash\n",
    "accelerate config\n",
    "```\n",
    "\n",
    "on your machine and reply to the questions asked. This will save a *default_config.yaml* file in your cache folder for\n",
    "🤗 Accelerate. That cache folder is (with decreasing order of priority):\n",
    "\n",
    "- The content of your environment variable `HF_HOME` suffixed with *accelerate*.\n",
    "- If it does not exist, the content of your environment variable `XDG_CACHE_HOME` suffixed with\n",
    "  *huggingface/accelerate*.\n",
    "- If this does not exist either, the folder *~/.cache/huggingface/accelerate*\n",
    "\n",
    "You can also specify with the flag `--config_file` the location of the file you want to save.\n",
    "\n",
    "Once this is done, you can test everything is going well on your setup by running\n",
    "\n",
    "```bash\n",
    "accelerate test\n",
    "```\n",
    "\n",
    "This will launch a short script that will test the distributed environment. If it runs fine, you are ready for the next\n",
    "step!\n",
    "\n",
    "Note that if you specified a location for the config file in the previous step, you need to pass it here as well:\n",
    "\n",
    "```bash\n",
    "accelerate test --config_file path_to_config.yaml\n",
    "```\n",
    "\n",
    "Now that this is done, you can run your script with the following command:\n",
    "\n",
    "```bash\n",
    "accelerate launch path_to_script.py --args_for_the_script\n",
    "```\n",
    "\n",
    "If you stored the config file in a non-default location, you can indicate it to the launcher like his:\n",
    "\n",
    "```bash\n",
    "accelerate launch --config_file path_to_config.yaml path_to_script.py --args_for_the_script\n",
    "```\n",
    "\n",
    "You can also override any of the arguments determined by your config file, see TODO: insert ref here."
   ]
  },
  {
   "cell_type": "markdown",
   "metadata": {},
   "source": [
    "## Launching training from a notebook"
   ]
  },
  {
   "cell_type": "markdown",
   "metadata": {},
   "source": [
    "In Accelerate 0.3.0, a new [notebook_launcher()](https://huggingface.co/docs/accelerate/main/en/launcher#accelerate.notebook_launcher) has been introduced to help you launch your training\n",
    "function from a notebook. This launcher supports launching a training with TPUs on Colab or Kaggle, as well as training\n",
    "on several GPUs (if the machine on which you are running your notebook has them).\n",
    "\n",
    "Just define a function responsible for your whole training and/or evaluation in a cell of the notebook, then execute a\n",
    "cell with the following code:"
   ]
  },
  {
   "cell_type": "code",
   "execution_count": null,
   "metadata": {},
   "outputs": [],
   "source": [
    "from accelerate import notebook_launcher\n",
    "\n",
    "notebook_launcher(training_function)"
   ]
  },
  {
   "cell_type": "markdown",
   "metadata": {},
   "source": [
    "<Tip warning={true}>\n",
    "\n",
    "Your `Accelerator` object should only be defined inside the training function. This is because the\n",
    "initialization should be done inside the launcher only.\n",
    "\n",
    "</Tip>"
   ]
  },
  {
   "cell_type": "markdown",
   "metadata": {},
   "source": [
    "## Training on TPU"
   ]
  },
  {
   "cell_type": "markdown",
   "metadata": {},
   "source": [
    "If you want to launch your script on TPUs, there are a few caveats you should be aware of. Behind the scenes, the TPUs\n",
    "will create a graph of all the operations happening in your training step (forward pass, backward pass and optimizer\n",
    "step). This is why your first step of training will always be very long as building and compiling this graph for\n",
    "optimizations takes some time.\n",
    "\n",
    "The good news is that this compilation will be cached so the second step and all the following will be much faster. The\n",
    "bas news is that it only applies if all of your steps do exactly the same operations, which implies:\n",
    "\n",
    "- having all tensors of the same length in all your lengths\n",
    "- having static code (i.e., not a for loop of length that could change from step to step)\n",
    "\n",
    "Having any of the things above change between two steps will trigger a new compilation which will, once again, take a\n",
    "lot of time. In practice, that means you must take special care to have all your tensors in your inputs of the same\n",
    "shape (so no dynamic padding for instance if you are in an NLP problem) and should not use layer with for loops that\n",
    "have different lengths depending on the inputs (such as an LSTM) or the training will be excruciatingly slow.\n",
    "\n",
    "To introduce special behavior in your script for TPUs you can check the `distributed_type` of your\n",
    "`accelerator`:\n",
    "\n",
    "```python docstyle-ignore\n",
    "from accelerate import DistributedType\n",
    "\n",
    "if accelerator.distributed_type == DistributedType.TPU:\n",
    "    # do something of static shape\n",
    "else:\n",
    "    # go crazy and be dynamic\n",
    "```\n",
    "\n",
    "The [NLP example](https://github.com/huggingface/accelerate/blob/main/examples/nlp_example.py) shows an example in\n",
    "situation with dynamic padding.\n",
    "\n",
    "One last thing to pay close attnetion to: if your model has tied weights (such as language models which tie the weights\n",
    "of the embedding matrix with the weights of the decoder), moving this model to the TPU (either yourself or after you\n",
    "passed your model to [prepare()](https://huggingface.co/docs/accelerate/main/en/accelerator#accelerate.Accelerator.prepare)) will break the tying. You will need to retie the weights\n",
    "after. You can find an example of this in the [run_clm_no_trainer](https://github.com/huggingface/transformers/blob/master/examples/pytorch/language-modeling/run_clm.py) script in\n",
    "the Transformers repository."
   ]
  },
  {
   "cell_type": "markdown",
   "metadata": {},
   "source": [
    "## Other caveats"
   ]
  },
  {
   "cell_type": "markdown",
   "metadata": {},
   "source": [
    "We list here all smaller issues you could have in your script conversion and how to resolve them."
   ]
  },
  {
   "cell_type": "markdown",
   "metadata": {},
   "source": [
    "### Execute a statement only on one processes"
   ]
  },
  {
   "cell_type": "markdown",
   "metadata": {},
   "source": [
    "Some of your instructions only need to run for one process on a given server: for instance a data download or a log\n",
    "statement. To do this, wrap the statement in a test like this:\n",
    "\n",
    "```python docstyle-ignore\n",
    "if accelerator.is_local_main_process:\n",
    "    # Is executed once per server\n",
    "```\n",
    "\n",
    "Another example is progress bars: to avoid having multiple progress bars in your output, you should only display one on\n",
    "the local main process:"
   ]
  },
  {
   "cell_type": "code",
   "execution_count": null,
   "metadata": {},
   "outputs": [],
   "source": [
    "from tqdm.auto import tqdm\n",
    "\n",
    "progress_bar = tqdm(range(args.max_train_steps), disable=not accelerator.is_local_main_process)"
   ]
  },
  {
   "cell_type": "markdown",
   "metadata": {},
   "source": [
    "The *local* means per machine: if you are running your training on two servers with several GPUs, the instruction will\n",
    "be executed once on each of those servers. If you need to execute something only once for all processes (and not per\n",
    "machine) for instance, uploading the final model to the 🤗 model hub, wrap it in a test like this:\n",
    "\n",
    "```python docstyle-ignore\n",
    "if accelerator.is_main_process:\n",
    "    # Is executed once only\n",
    "```\n",
    "\n",
    "For printing statements you only want executed once per machine, you can just replace the `print` function by\n",
    "`accelerator.print`."
   ]
  },
  {
   "cell_type": "markdown",
   "metadata": {},
   "source": [
    "### Defer execution"
   ]
  },
  {
   "cell_type": "markdown",
   "metadata": {},
   "source": [
    "When you run your usual script, instructions are executed in order. Using 🤗 Accelerate to deploy your script on several\n",
    "GPUs at the same time introduces a complication: while each process executes all instructions in order, some may be\n",
    "faster than others.\n",
    "\n",
    "You might need to wait for all processes to have reached a certain point before executing a given instruction. For\n",
    "instance, you shouldn't save a model before being sure every process is done with training. To do this, just write the\n",
    "following line in your code:\n",
    "\n",
    "```\n",
    "accelerator.wait_for_everyone()\n",
    "```\n",
    "\n",
    "This instruction will block all the processes that arrive them first until all the other processes have reached that\n",
    "point (if you run your script on just one GPU or CPU, this wont' do anything)."
   ]
  },
  {
   "cell_type": "markdown",
   "metadata": {},
   "source": [
    "### Saving/loading a model"
   ]
  },
  {
   "cell_type": "markdown",
   "metadata": {},
   "source": [
    "Saving the model you trained might need a bit of adjustment: first you should wait for all processes to reach that\n",
    "point in the script as shown above, and then, you should unwrap your model before saving it. This is because when going\n",
    "through the [prepare()](https://huggingface.co/docs/accelerate/main/en/accelerator#accelerate.Accelerator.prepare) method, your model may have been placed inside a bigger model,\n",
    "which deals with the distributed training. This in turn means that saving your model state dictionary without taking\n",
    "any precaution will take that potential extra layer into account, and you will end up with weights you can't load back\n",
    "in your base model.\n",
    "\n",
    "This is why it's recommended to *unwrap* your model first. Here is an example:\n",
    "\n",
    "```\n",
    "accelerator.wait_for_everyone()\n",
    "unwrapped_model = accelerator.unwrap_model(model)\n",
    "accelerator.save(unwrapped_model.state_dict(), filename)\n",
    "```\n",
    "\n",
    "If your script contains a logic to load checkpoint, we also recommend you load your weights in the unwrapped model\n",
    "(this is only useful if you use the load function after making your model go through\n",
    "[prepare()](https://huggingface.co/docs/accelerate/main/en/accelerator#accelerate.Accelerator.prepare)). Here is an example:\n",
    "\n",
    "```\n",
    "unwrapped_model = accelerator.unwrap_model(model)\n",
    "unwrapped_model.load_state_dict(torch.load(filename))\n",
    "```\n",
    "\n",
    "Note that since all the model parameters are references to tensors, this will load your weights inside `model`."
   ]
  },
  {
   "cell_type": "markdown",
   "metadata": {},
   "source": [
    "### Gradient clipping"
   ]
  },
  {
   "cell_type": "markdown",
   "metadata": {},
   "source": [
    "If you are using gradient clipping in your script, you should replace the calls to\n",
    "`torch.nn.utils.clip_grad_norm_` or `torch.nn.utils.clip_grad_value_` with `accelerator.clip_grad_norm_`\n",
    "and `accelerator.clip_grad_value_` respectively."
   ]
  },
  {
   "cell_type": "markdown",
   "metadata": {},
   "source": [
    "### Mixed Precision training"
   ]
  },
  {
   "cell_type": "markdown",
   "metadata": {},
   "source": [
    "If you are running your training in Mixed Precision with Accelerate, you will get the best result with your loss being\n",
    "computed inside your model (like in Transformer models for instance). Every computation outside of the model will be\n",
    "executed in full precision (which is generally what you want for loss computation, expecially if it involves a\n",
    "softmax). However you might want to put your loss computation inside the *accelerator.autocast* context manager:\n",
    "\n",
    "```\n",
    "with accelerator.autocast():\n",
    "    loss = complex_loss_function(outputs, target):\n",
    "```\n",
    "\n",
    "Another caveat with Mixed Precision training is that the gradient will skip a few updates at the beginning and\n",
    "sometimes during training: because of the dynamic loss scaling strategy, there are points during training where the\n",
    "gradients have overflown, and the loss scaling factor is reduced to avoid this happening again at the next step.\n",
    "\n",
    "This means that you may update your learning rate scheduler when there was no update, which is fine in general, but may\n",
    "have an impact when you have very little training data, or if the first learning rate values of your scheduler are very\n",
    "important. In this case, you can skip the learning rate scheduler updates when the optimizer step was not done like\n",
    "this:\n",
    "\n",
    "```\n",
    "if not accelerator.optimizer_step_was_skipped:\n",
    "    lr_scheduler.step()\n",
    "```"
   ]
  },
  {
   "cell_type": "markdown",
   "metadata": {},
   "source": [
    "### DeepSpeed"
   ]
  },
  {
   "cell_type": "markdown",
   "metadata": {},
   "source": [
    "DeepSpeed support is experimental, so the underlying API will evolve in the near future and may have some slight\n",
    "breaking changes. In particular, 🤗 Accelerate does not support DeepSpeed config you have written yourself yet, this\n",
    "will be added in a next version.\n",
    "\n",
    "One main caveat for the DeepSpeed integration is that the DeepSpeed launcher always passes a `local_rank` variable to\n",
    "the training script, so your training script should accept it (whether you launch training with the DeepSpeed launcher\n",
    "or `accelerate launch`).\n",
    "\n",
    "<Tip warning={true}>\n",
    "\n",
    "The [notebook_launcher()](https://huggingface.co/docs/accelerate/main/en/launcher#accelerate.notebook_launcher) does not support the DeepSpeed integration yet.\n",
    "\n",
    "</Tip>"
   ]
  },
  {
   "cell_type": "markdown",
   "metadata": {},
   "source": [
    "## Internal mechanism"
   ]
  },
  {
   "cell_type": "markdown",
   "metadata": {},
   "source": [
    "Internally, the library works by first analyzing the environment in which the script is launched to determine which\n",
    "kind of distributed setup is used, how many different processes there are and which one the current script is in. All\n",
    "that information is stored in the `~AcceleratorState`.\n",
    "\n",
    "This class is initialized the first time you instantiate a [Accelerator](https://huggingface.co/docs/accelerate/main/en/accelerator#accelerate.Accelerator) as well as performing any\n",
    "specific initialization your distributed setup needs. Its state is then uniquely shared through all instances of\n",
    "[AcceleratorState](https://huggingface.co/docs/accelerate/main/en/internal#accelerate.state.AcceleratorState).\n",
    "\n",
    "Then, when calling [prepare()](https://huggingface.co/docs/accelerate/main/en/accelerator#accelerate.Accelerator.prepare), the library:\n",
    "\n",
    "- wraps your model(s) in the container adapted for the distributed setup,\n",
    "- wraps your optimizer(s) in a [AcceleratedOptimizer](https://huggingface.co/docs/accelerate/main/en/internal#accelerate.optimizer.AcceleratedOptimizer),\n",
    "- creates a new version of your dataloader(s) in a [DataLoaderShard](https://huggingface.co/docs/accelerate/main/en/internal#accelerate.data_loader.DataLoaderShard).\n",
    "\n",
    "While the model(s) and optimizer(s) are just put in simple wrappers, the dataloader(s) are re-created. This is mostly\n",
    "because PyTorch does not let the user change the `batch_sampler` of a dataloader once it's been created and the\n",
    "library handles the sharding of your data between processes by changing that `batch_sampler` to yield every other\n",
    "`num_processes` batches.\n",
    "\n",
    "The [DataLoaderShard](https://huggingface.co/docs/accelerate/main/en/internal#accelerate.data_loader.DataLoaderShard) subclasses `DataLoader` to add the following functionality:\n",
    "\n",
    "- it synchronizes the appropriate random number generator of all processes at each new iteration, to ensure any\n",
    "  randomization (like shuffling) is done the exact same way across processes.\n",
    "- it puts the batches on the proper device before yielding them (unless you have opted out of\n",
    "  `device_placement=True`).\n",
    "\n",
    "The random number generator synchronization will by default synchronize:\n",
    "\n",
    "- the `generator` attribute of a given sampler (like the PyTorch `RandomSampler`) for PyTorch >= 1.6\n",
    "- the main random number generator in PyTorch <=1.5.1\n",
    "\n",
    "You can choose which random number generator(s) to synchronize with the `rng_types` argument of the main\n",
    "[Accelerator](https://huggingface.co/docs/accelerate/main/en/accelerator#accelerate.Accelerator). In PyTorch >= 1.6, it is recommended to rely on local `generator` to avoid\n",
    "setting the same seed in the main random number generator in all processes.\n",
    "\n",
    "<Tip warning={true}>\n",
    "\n",
    "Synchronization the main torch (or CUDA or XLA) random number generator will affect any other potential random\n",
    "artifacts you could have in your dataset (like random data augmentation) in the sense all processes will get the\n",
    "same random numbers from the torch random modules (so will apply the same random data augmentation if it's\n",
    "controlled by torch).\n",
    "\n",
    "</Tip>\n",
    "\n",
    "<Tip>\n",
    "\n",
    "The randomization part of your custom sampler, batch sampler or iterable dataset should be done using a local\n",
    "`torch.Generator` object (in PyTorch >= 1.6), see the traditional `RandomSampler`, as an example.\n",
    "\n",
    "</Tip>\n",
    "\n",
    "See more details about the internal in the [Internals page](https://huggingface.co/docs/accelerate/main/en/internal)."
   ]
  }
 ],
 "metadata": {},
 "nbformat": 4,
 "nbformat_minor": 4
}
