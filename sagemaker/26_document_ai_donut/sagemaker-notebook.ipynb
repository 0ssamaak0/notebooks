{
 "cells": [
  {
   "attachments": {},
   "cell_type": "markdown",
   "metadata": {},
   "source": [
    "# Document AI: Fine-tuning Donut for document-parsing using Hugging Face Transformers on Amazon SageMaker\n",
    "\n",
    "In this tutorial, you will learn how to fine-tune and deploy [Donut-base](https://huggingface.co/naver-clova-ix/donut-base) for document-understand/document-parsing using Hugging Face Transformers and Amazon SageMaker. Donut is a new document-understanding model achieving state-of-art performance with an MIT-license, which allows it to be used for commercial purposes compared to other models like LayoutLMv2/LayoutLMv3. \n",
    "\n",
    "You will learn how to:\n",
    "\n",
    "1. [Setup Development Environment](#1-setup-development-environment)\n",
    "2. [Load SROIE dataset](#2-load-sroie-dataset)\n",
    "3. [Preprocess and upload dataset for Donut](#3-preprocess-and-upload-dataset-for-donut)\n",
    "4. [Fine-tune Donut model on Amazon SageMaker](#4-fine-tune-and-evaluate-donut-model)\n",
    "5. [Deploy Donut model on Amazon SageMaker](#5-deploy-donut-model)\n",
    "\n",
    "## Quick intro: Document Understanding Transformer (Donut) by ClovaAI\n",
    "\n",
    "Document Understanding Transformer (Donut) is a new Transformer model for OCR-free document understanding. It doesn't require an OCR engine to process scanned documents but is achieving state-of-the-art performances on various visual document understanding tasks, such as visual document classification or information extraction (a.k.a. document parsing). \n",
    "Donut is a multimodal sequence-to-sequence model with a vision encoder ([Swin Transformer](https://huggingface.co/docs/transformers/v4.21.2/en/model_doc/swin#overview)) and text decoder ([BART](https://huggingface.co/docs/transformers/v4.21.2/en/model_doc/bart)). The encoder receives the images and computes it into an embedding, which is then passed to the decoder, which generates a sequence of tokens.\n",
    "\n",
    "![donut](./assets/donut.png)\n",
    "\n",
    "* Paper: https://arxiv.org/abs/2111.15664\n",
    "* Official repo:  https://github.com/clovaai/donut\n",
    "\n",
    "--- \n",
    "\n",
    "Now we know how Donut works, so let's get started. 🚀\n"
   ]
  },
  {
   "attachments": {},
   "cell_type": "markdown",
   "metadata": {},
   "source": [
    "## 1. Setup Development Environment\n",
    "\n",
    "\n",
    "The first step is to install the required libraries and setup the environment. We will use the [Amazon SageMaker Python SDK](https://sagemaker.readthedocs.io/en/stable/) to interact with SageMaker. We will also use [Hugging Face Transformers & Datasets](https://huggingface.co/transformers/) to preprocess the data. "
   ]
  },
  {
   "cell_type": "code",
   "execution_count": null,
   "metadata": {},
   "outputs": [],
   "source": [
    "!pip install \"transformers==4.26.0\" \"datasets[s3]==2.9.0\" sagemaker --upgrade --quiet"
   ]
  },
  {
   "attachments": {},
   "cell_type": "markdown",
   "metadata": {},
   "source": [
    "If you are going to use Sagemaker in a local environment. You need access to an IAM Role with the required permissions for Sagemaker. You can find [here](https://docs.aws.amazon.com/sagemaker/latest/dg/sagemaker-roles.html) more about it.\n"
   ]
  },
  {
   "cell_type": "code",
   "execution_count": 2,
   "metadata": {},
   "outputs": [
    {
     "name": "stderr",
     "output_type": "stream",
     "text": [
      "Couldn't call 'get_role' to get Role ARN from role name philippschmid to get Role path.\n"
     ]
    },
    {
     "name": "stdout",
     "output_type": "stream",
     "text": [
      "sagemaker role arn: arn:aws:iam::558105141721:role/sagemaker_execution_role\n",
      "sagemaker bucket: sagemaker-us-east-1-558105141721\n",
      "sagemaker session region: us-east-1\n"
     ]
    }
   ],
   "source": [
    "import sagemaker\n",
    "import boto3\n",
    "sess = sagemaker.Session()\n",
    "# sagemaker session bucket -> used for uploading data, models and logs\n",
    "# sagemaker will automatically create this bucket if it not exists\n",
    "sagemaker_session_bucket=None\n",
    "if sagemaker_session_bucket is None and sess is not None:\n",
    "    # set to default bucket if a bucket name is not given\n",
    "    sagemaker_session_bucket = sess.default_bucket()\n",
    "\n",
    "try:\n",
    "    role = sagemaker.get_execution_role()\n",
    "except ValueError:\n",
    "    iam = boto3.client('iam')\n",
    "    role = iam.get_role(RoleName='sagemaker_execution_role')['Role']['Arn']\n",
    "\n",
    "sess = sagemaker.Session(default_bucket=sagemaker_session_bucket)\n",
    "\n",
    "print(f\"sagemaker role arn: {role}\")\n",
    "print(f\"sagemaker bucket: {sess.default_bucket()}\")\n",
    "print(f\"sagemaker session region: {sess.boto_region_name}\")\n"
   ]
  },
  {
   "attachments": {},
   "cell_type": "markdown",
   "metadata": {},
   "source": [
    "## 2. Load SROIE dataset\n",
    "\n",
    "We will use the [SROIE](https://github.com/zzzDavid/ICDAR-2019-SROIE) dataset a collection of 1000 scanned receipts including their OCR, more specifically we will use the dataset from task 2 \"Scanned Receipt OCR\". The available dataset on Hugging Face ([darentang/sroie](https://huggingface.co/datasets/darentang/sroie)) is not compatible with Donut. Thats why we will use the original dataset together with the `imagefolder` feature of `datasets` to load our dataset. Learn more about loading image data [here](https://huggingface.co/docs/datasets/v2.4.0/en/image_load#load-image-data).\n",
    "\n",
    "_Note: The test data for task2 is sadly not available. Meaning that we end up only with 626 images._\n",
    "\n",
    "First, we will clone the repository, extract the dataset into a separate folder and remove the unnecessary files.\n"
   ]
  },
  {
   "cell_type": "code",
   "execution_count": 9,
   "metadata": {},
   "outputs": [
    {
     "name": "stderr",
     "output_type": "stream",
     "text": [
      "Cloning into 'ICDAR-2019-SROIE'...\n",
      "Updating files: 100% (1980/1980), done.\n"
     ]
    }
   ],
   "source": [
    "%%bash \n",
    "# clone repository\n",
    "git clone https://github.com/zzzDavid/ICDAR-2019-SROIE.git\n",
    "# copy data\n",
    "cp -r ICDAR-2019-SROIE/data ./\n",
    "# clean up\n",
    "rm -rf ICDAR-2019-SROIE\n",
    "rm -rf data/box"
   ]
  },
  {
   "cell_type": "markdown",
   "metadata": {},
   "source": [
    "Now we have two folders inside the `data/` directory. One contains the images of the receipts and the other contains the OCR text. The nex step is to create a `metadata.json` file that contains the information about the images including the OCR-text. This is necessary for the `imagefolder` feature of `datasets`.\n",
    "\n",
    "The `metadata.json` should look at the end similar to the example below.\n",
    "\n",
    "```json\n",
    "{\"file_name\": \"0001.png\", \"text\": \"This is a golden retriever playing with a ball\"}\n",
    "{\"file_name\": \"0002.png\", \"text\": \"A german shepherd\"}\n",
    "```\n",
    "\n",
    "In our example will `\"text\"` column contain the OCR text of the image, which will later be used for creating the Donut specific format."
   ]
  },
  {
   "cell_type": "code",
   "execution_count": 10,
   "metadata": {},
   "outputs": [],
   "source": [
    "import json\n",
    "from pathlib import Path\n",
    "import shutil\n",
    "\n",
    "# define paths\n",
    "base_path = Path(\"data\")\n",
    "metadata_path = base_path.joinpath(\"key\")\n",
    "image_path = base_path.joinpath(\"img\")\n",
    "# define metadata list\n",
    "metadata_list = []\n",
    "\n",
    "# parse metadata\n",
    "for file_name in metadata_path.glob(\"*.json\"):\n",
    "  with open(file_name, \"r\") as json_file:\n",
    "    # load json file\n",
    "    data = json.load(json_file)\n",
    "    # create \"text\" column with json string\n",
    "    text = json.dumps(data)\n",
    "    # add to metadata list if image exists\n",
    "    if image_path.joinpath(f\"{file_name.stem}.jpg\").is_file():    \n",
    "      metadata_list.append({\"text\":text,\"file_name\":f\"{file_name.stem}.jpg\"})\n",
    "      # delete json file\n",
    "      \n",
    "# write jsonline file\n",
    "with open(image_path.joinpath('metadata.jsonl'), 'w') as outfile:\n",
    "    for entry in metadata_list:\n",
    "        json.dump(entry, outfile)\n",
    "        outfile.write('\\n')\n",
    "\n",
    "# remove old meta data\n",
    "shutil.rmtree(metadata_path)"
   ]
  },
  {
   "cell_type": "markdown",
   "metadata": {},
   "source": [
    "Good Job! Now we can load the dataset using the `imagefolder` feature of `datasets`."
   ]
  },
  {
   "cell_type": "code",
   "execution_count": 11,
   "metadata": {},
   "outputs": [
    {
     "data": {
      "application/vnd.jupyter.widget-view+json": {
       "model_id": "fb39bfffaaac43c9859be82d21fe42ec",
       "version_major": 2,
       "version_minor": 0
      },
      "text/plain": [
       "Resolving data files:   0%|          | 0/627 [00:00<?, ?it/s]"
      ]
     },
     "metadata": {},
     "output_type": "display_data"
    },
    {
     "name": "stderr",
     "output_type": "stream",
     "text": [
      "Using custom data configuration default-10bdfec3711e4590\n"
     ]
    },
    {
     "name": "stdout",
     "output_type": "stream",
     "text": [
      "Downloading and preparing dataset imagefolder/default to /home/ubuntu/.cache/huggingface/datasets/imagefolder/default-10bdfec3711e4590/0.0.0/37fbb85cc714a338bea574ac6c7d0b5be5aff46c1862c1989b20e0771199e93f...\n"
     ]
    },
    {
     "data": {
      "application/vnd.jupyter.widget-view+json": {
       "model_id": "dd730a7ac7c74dd488edf31cb1ce3d8f",
       "version_major": 2,
       "version_minor": 0
      },
      "text/plain": [
       "Downloading data files:   0%|          | 0/627 [00:00<?, ?it/s]"
      ]
     },
     "metadata": {},
     "output_type": "display_data"
    },
    {
     "data": {
      "application/vnd.jupyter.widget-view+json": {
       "model_id": "8bd58ad386ca4f7eaf21aba9250603a3",
       "version_major": 2,
       "version_minor": 0
      },
      "text/plain": [
       "Downloading data files: 0it [00:00, ?it/s]"
      ]
     },
     "metadata": {},
     "output_type": "display_data"
    },
    {
     "data": {
      "application/vnd.jupyter.widget-view+json": {
       "model_id": "d07a0bb618604097b68de7e3fad2037c",
       "version_major": 2,
       "version_minor": 0
      },
      "text/plain": [
       "Extracting data files: 0it [00:00, ?it/s]"
      ]
     },
     "metadata": {},
     "output_type": "display_data"
    },
    {
     "data": {
      "application/vnd.jupyter.widget-view+json": {
       "model_id": "20ec5c53411f42bba83055a3316fdf2d",
       "version_major": 2,
       "version_minor": 0
      },
      "text/plain": [
       "Generating train split: 0 examples [00:00, ? examples/s]"
      ]
     },
     "metadata": {},
     "output_type": "display_data"
    },
    {
     "name": "stdout",
     "output_type": "stream",
     "text": [
      "Dataset imagefolder downloaded and prepared to /home/ubuntu/.cache/huggingface/datasets/imagefolder/default-10bdfec3711e4590/0.0.0/37fbb85cc714a338bea574ac6c7d0b5be5aff46c1862c1989b20e0771199e93f. Subsequent calls will reuse this data.\n",
      "Dataset has 626 images\n",
      "Dataset features are: dict_keys(['image', 'text'])\n"
     ]
    }
   ],
   "source": [
    "from datasets import load_dataset\n",
    "\n",
    "\n",
    "dataset = load_dataset(\"imagefolder\", data_dir=image_path, split=\"train\")\n",
    "\n",
    "print(f\"Dataset has {len(dataset)} images\")\n",
    "print(f\"Dataset features are: {dataset.features.keys()}\")"
   ]
  },
  {
   "cell_type": "markdown",
   "metadata": {},
   "source": [
    "Now, lets take a closer look at our dataset"
   ]
  },
  {
   "cell_type": "code",
   "execution_count": 12,
   "metadata": {},
   "outputs": [
    {
     "name": "stdout",
     "output_type": "stream",
     "text": [
      "Random sample is 571\n",
      "OCR text is {\"company\": \"MIZU MENTAI SDN. BHD.\", \"date\": \"04-06-2018\", \"address\": \"NO: 1-1&2 GROUND FLOOR, JLN TEMENGGUNG 13/9, 43200 CHERAS SELANGOR.\", \"total\": \"68.00\"}\n"
     ]
    },
    {
     "data": {
      "image/png": "[encoded data removed]",
      "text/plain": [
       "<PIL.Image.Image image mode=RGB size=250x400>"
      ]
     },
     "execution_count": 12,
     "metadata": {},
     "output_type": "execute_result"
    }
   ],
   "source": [
    "import random\n",
    "\n",
    "random_sample = random.randint(0, len(dataset))\n",
    "\n",
    "print(f\"Random sample is {random_sample}\")\n",
    "print(f\"OCR text is {dataset[random_sample]['text']}\")\n",
    "dataset[random_sample]['image'].resize((250,400))\n"
   ]
  },
  {
   "attachments": {},
   "cell_type": "markdown",
   "metadata": {},
   "source": [
    "## 3. Preprocess and upload dataset for Donut\n",
    "\n",
    "As we learned in the introduction, Donut is a sequence-to-sequence model with a vision encoder and text decoder. When fine-tuning the model we want it to generate the `\"text\"` based on the image we pass it. Similar to NLP tasks, we have to tokenize and preprocess the text. \n",
    "Before we can tokenize the text, we need to transform the JSON string into a Donut compatible document. \n",
    "\n",
    "**current JSON string**\n",
    "```json\n",
    "{\"company\": \"ADVANCO COMPANY\", \"date\": \"17/01/2018\", \"address\": \"NO 1&3, JALAN WANGSA DELIMA 12, WANGSA LINK, WANGSA MAJU, 53300 KUALA LUMPUR\", \"total\": \"7.00\"}\n",
    "```\n",
    "\n",
    "**Donut document**\n",
    "```json\n",
    "<s></s><s_company>ADVANCO COMPANY</s_company><s_date>17/01/2018</s_date><s_address>NO 1&3, JALAN WANGSA DELIMA 12, WANGSA LINK, WANGSA MAJU, 53300 KUALA LUMPUR</s_address><s_total>7.00</s_total></s>\n",
    "```\n",
    "\n",
    "To easily create those documents the ClovaAI team has created a [json2token](https://github.com/clovaai/donut/blob/master/donut/model.py#L497) method, which we extract and then apply."
   ]
  },
  {
   "cell_type": "code",
   "execution_count": 13,
   "metadata": {},
   "outputs": [
    {
     "data": {
      "application/vnd.jupyter.widget-view+json": {
       "model_id": "6f10ebc67c224a9f9e3a40b6b562d007",
       "version_major": 2,
       "version_minor": 0
      },
      "text/plain": [
       "  0%|          | 0/626 [00:00<?, ?ex/s]"
      ]
     },
     "metadata": {},
     "output_type": "display_data"
    },
    {
     "name": "stdout",
     "output_type": "stream",
     "text": [
      "Sample: <s><s_total>$6.90</s_total><s_date>27 MAR 2018</s_date><s_company>UNIHAKKA INTERNATIONAL SDN BHD</s_company><s_address>12, JALAN TAMPOI 7/4,KAWASAN PARINDUSTRIAN TAMPOI,81200 JOHOR BAHRU,JOHOR</s_address></s>\n",
      "New special tokens: ['<s_total>', '</s_total>', '<s_date>', '</s_date>', '<s_company>', '</s_company>', '<s_address>', '</s_address>', '<s>', '</s>']\n"
     ]
    }
   ],
   "source": [
    "new_special_tokens = [] # new tokens which will be added to the tokenizer\n",
    "task_start_token = \"<s>\"  # start of task token\n",
    "eos_token = \"</s>\" # eos token of tokenizer\n",
    "\n",
    "def json2token(obj, update_special_tokens_for_json_key: bool = True, sort_json_key: bool = True):\n",
    "    \"\"\"\n",
    "    Convert an ordered JSON object into a token sequence\n",
    "    \"\"\"\n",
    "    if type(obj) == dict:\n",
    "        if len(obj) == 1 and \"text_sequence\" in obj:\n",
    "            return obj[\"text_sequence\"]\n",
    "        else:\n",
    "            output = \"\"\n",
    "            if sort_json_key:\n",
    "                keys = sorted(obj.keys(), reverse=True)\n",
    "            else:\n",
    "                keys = obj.keys()\n",
    "            for k in keys:\n",
    "                if update_special_tokens_for_json_key:\n",
    "                    new_special_tokens.append(fr\"<s_{k}>\") if fr\"<s_{k}>\" not in new_special_tokens else None\n",
    "                    new_special_tokens.append(fr\"</s_{k}>\") if fr\"</s_{k}>\" not in new_special_tokens else None\n",
    "                output += (\n",
    "                    fr\"<s_{k}>\"\n",
    "                    + json2token(obj[k], update_special_tokens_for_json_key, sort_json_key)\n",
    "                    + fr\"</s_{k}>\"\n",
    "                )\n",
    "            return output\n",
    "    elif type(obj) == list:\n",
    "        return r\"<sep/>\".join(\n",
    "            [json2token(item, update_special_tokens_for_json_key, sort_json_key) for item in obj]\n",
    "        )\n",
    "    else:\n",
    "        # excluded special tokens for now\n",
    "        obj = str(obj)\n",
    "        if f\"<{obj}/>\" in new_special_tokens:\n",
    "            obj = f\"<{obj}/>\"  # for categorical special tokens\n",
    "        return obj\n",
    "\n",
    "\n",
    "def preprocess_documents_for_donut(sample):\n",
    "    # create Donut-style input\n",
    "    text = json.loads(sample[\"text\"])\n",
    "    d_doc = task_start_token + json2token(text) + eos_token\n",
    "    # convert all images to RGB\n",
    "    image = sample[\"image\"].convert('RGB')\n",
    "    return {\"image\": image, \"text\": d_doc}\n",
    "\n",
    "proc_dataset = dataset.map(preprocess_documents_for_donut)\n",
    "\n",
    "print(f\"Sample: {proc_dataset[45]['text']}\")\n",
    "print(f\"New special tokens: {new_special_tokens + [task_start_token] + [eos_token]}\")\n"
   ]
  },
  {
   "cell_type": "markdown",
   "metadata": {},
   "source": [
    "The next step is to tokenize our text and encode the images into tensors. Therefore we need to load `DonutProcessor`, add our new special tokens and adjust the size of the images when processing from `[1920, 2560]` to `[720, 960]` to need less memory and have faster training."
   ]
  },
  {
   "cell_type": "code",
   "execution_count": 14,
   "metadata": {},
   "outputs": [
    {
     "name": "stderr",
     "output_type": "stream",
     "text": [
      "2023-05-17 20:00:59.772688: I tensorflow/core/platform/cpu_feature_guard.cc:193] This TensorFlow binary is optimized with oneAPI Deep Neural Network Library (oneDNN) to use the following CPU instructions in performance-critical operations:  AVX2 AVX512F AVX512_VNNI FMA\n",
      "To enable them in other operations, rebuild TensorFlow with the appropriate compiler flags.\n",
      "2023-05-17 20:00:59.873049: I tensorflow/core/util/port.cc:104] oneDNN custom operations are on. You may see slightly different numerical results due to floating-point round-off errors from different computation orders. To turn them off, set the environment variable `TF_ENABLE_ONEDNN_OPTS=0`.\n",
      "2023-05-17 20:00:59.875997: W tensorflow/compiler/xla/stream_executor/platform/default/dso_loader.cc:64] Could not load dynamic library 'libcudart.so.11.0'; dlerror: libcudart.so.11.0: cannot open shared object file: No such file or directory\n",
      "2023-05-17 20:00:59.876008: I tensorflow/compiler/xla/stream_executor/cuda/cudart_stub.cc:29] Ignore above cudart dlerror if you do not have a GPU set up on your machine.\n",
      "2023-05-17 20:01:00.741972: W tensorflow/compiler/xla/stream_executor/platform/default/dso_loader.cc:64] Could not load dynamic library 'libnvinfer.so.7'; dlerror: libnvinfer.so.7: cannot open shared object file: No such file or directory\n",
      "2023-05-17 20:01:00.742023: W tensorflow/compiler/xla/stream_executor/platform/default/dso_loader.cc:64] Could not load dynamic library 'libnvinfer_plugin.so.7'; dlerror: libnvinfer_plugin.so.7: cannot open shared object file: No such file or directory\n",
      "2023-05-17 20:01:00.742029: W tensorflow/compiler/tf2tensorrt/utils/py_utils.cc:38] TF-TRT Warning: Cannot dlopen some TensorRT libraries. If you would like to use Nvidia GPU with TensorRT, please make sure the missing libraries mentioned above are installed properly.\n",
      "Could not find image processor class in the image processor config or the model config. Loading based on pattern matching with the model's feature extractor configuration.\n",
      "/home/ubuntu/miniconda3/envs/dev/lib/python3.9/site-packages/transformers/models/donut/processing_donut.py:186: FutureWarning: `feature_extractor` is deprecated and will be removed in v5. Use `image_processor` instead.\n",
      "  warnings.warn(\n"
     ]
    }
   ],
   "source": [
    "from transformers import DonutProcessor\n",
    "\n",
    "# Load processor\n",
    "model_id = \"naver-clova-ix/donut-base\"\n",
    "processor = DonutProcessor.from_pretrained(model_id)\n",
    "\n",
    "# add new special tokens to tokenizer\n",
    "processor.tokenizer.add_special_tokens({\"additional_special_tokens\": new_special_tokens + [task_start_token] + [eos_token]})\n",
    "\n",
    "# we update some settings which differ from pretraining; namely the size of the images + no rotation required\n",
    "# resizing the image to smaller sizes from [1920, 2560] to [960,1280]\n",
    "processor.feature_extractor.size = [720,960] # should be (width, height)\n",
    "processor.feature_extractor.do_align_long_axis = False"
   ]
  },
  {
   "cell_type": "markdown",
   "metadata": {},
   "source": [
    "Now, we can prepare our dataset, which we will use for the training later.\n"
   ]
  },
  {
   "cell_type": "code",
   "execution_count": 15,
   "metadata": {},
   "outputs": [
    {
     "data": {
      "application/vnd.jupyter.widget-view+json": {
       "model_id": "98689ff19fa84a0bbc9ea4fd32ff3d18",
       "version_major": 2,
       "version_minor": 0
      },
      "text/plain": [
       "  0%|          | 0/626 [00:00<?, ?ex/s]"
      ]
     },
     "metadata": {},
     "output_type": "display_data"
    }
   ],
   "source": [
    "def transform_and_tokenize(sample, processor=processor, split=\"train\", max_length=512, ignore_id=-100):\n",
    "    # create tensor from image\n",
    "    try:\n",
    "        pixel_values = processor(\n",
    "            sample[\"image\"], random_padding=split == \"train\", return_tensors=\"pt\"\n",
    "        ).pixel_values.squeeze()\n",
    "    except Exception as e:\n",
    "        print(sample)\n",
    "        print(f\"Error: {e}\")\n",
    "        return {}\n",
    "        \n",
    "    # tokenize document\n",
    "    input_ids = processor.tokenizer(\n",
    "        sample[\"text\"],\n",
    "        add_special_tokens=False,\n",
    "        max_length=max_length,\n",
    "        padding=\"max_length\",\n",
    "        truncation=True,\n",
    "        return_tensors=\"pt\",\n",
    "    )[\"input_ids\"].squeeze(0)\n",
    "\n",
    "    labels = input_ids.clone()\n",
    "    labels[labels == processor.tokenizer.pad_token_id] = ignore_id  # model doesn't need to predict pad token\n",
    "    return {\"pixel_values\": pixel_values, \"labels\": labels, \"target_sequence\": sample[\"text\"]}\n",
    "\n",
    "# need at least 32-64GB of RAM to run this\n",
    "processed_dataset = proc_dataset.map(transform_and_tokenize,remove_columns=[\"image\",\"text\"])"
   ]
  },
  {
   "attachments": {},
   "cell_type": "markdown",
   "metadata": {},
   "source": [
    "Before we can upload our dataset to S3 for training we want to split the dataset into train and test sets."
   ]
  },
  {
   "cell_type": "code",
   "execution_count": 16,
   "metadata": {},
   "outputs": [
    {
     "name": "stdout",
     "output_type": "stream",
     "text": [
      "DatasetDict({\n",
      "    train: Dataset({\n",
      "        features: ['pixel_values', 'labels', 'target_sequence'],\n",
      "        num_rows: 563\n",
      "    })\n",
      "    test: Dataset({\n",
      "        features: ['pixel_values', 'labels', 'target_sequence'],\n",
      "        num_rows: 63\n",
      "    })\n",
      "})\n"
     ]
    }
   ],
   "source": [
    "processed_dataset = processed_dataset.train_test_split(test_size=0.1)\n",
    "print(processed_dataset)"
   ]
  },
  {
   "attachments": {},
   "cell_type": "markdown",
   "metadata": {},
   "source": [
    "After that is done we use the new [FileSystem integration](https://huggingface.co/docs/datasets/filesystems) to upload our dataset to S3. We are using the `sess.default_bucket()`, adjust this if you want to store the dataset in a different S3 bucket. We will use the S3 path later in our training script."
   ]
  },
  {
   "cell_type": "code",
   "execution_count": 11,
   "metadata": {},
   "outputs": [
    {
     "data": {
      "application/vnd.jupyter.widget-view+json": {
       "model_id": "f45f82b4b8af42d2b7c98998825a6a28",
       "version_major": 2,
       "version_minor": 0
      },
      "text/plain": [
       "Flattening the indices:   0%|          | 0/1 [00:00<?, ?ba/s]"
      ]
     },
     "metadata": {},
     "output_type": "display_data"
    },
    {
     "data": {
      "application/vnd.jupyter.widget-view+json": {
       "model_id": "2821481c7d62400e9aa0ae7337e7b1e5",
       "version_major": 2,
       "version_minor": 0
      },
      "text/plain": [
       "Saving the dataset (0/10 shards):   0%|          | 0/563 [00:00<?, ? examples/s]"
      ]
     },
     "metadata": {},
     "output_type": "display_data"
    },
    {
     "name": "stderr",
     "output_type": "stream",
     "text": [
      "Loading cached processed dataset at /home/ubuntu/.cache/huggingface/datasets/imagefolder/default-a22cf722aa030b1d/0.0.0/37fbb85cc714a338bea574ac6c7d0b5be5aff46c1862c1989b20e0771199e93f/cache-fe194f9f3899e99b.arrow\n"
     ]
    },
    {
     "data": {
      "application/vnd.jupyter.widget-view+json": {
       "model_id": "615c4d5a4cb64c0faa01245c0bcf40cc",
       "version_major": 2,
       "version_minor": 0
      },
      "text/plain": [
       "Saving the dataset (0/10 shards):   0%|          | 0/563 [00:00<?, ? examples/s]"
      ]
     },
     "metadata": {},
     "output_type": "display_data"
    },
    {
     "name": "stdout",
     "output_type": "stream",
     "text": [
      "uploaded data to:\n",
      "training dataset to: s3://sagemaker-us-east-1-558105141721/processed/donut-sagemaker/test\n"
     ]
    }
   ],
   "source": [
    "\n",
    "# save train_dataset to s3\n",
    "training_input_path = f's3://{sess.default_bucket()}/processed/donut-sagemaker/train'\n",
    "processed_dataset[\"train\"].save_to_disk(training_input_path)\n",
    "\n",
    "# save train_dataset to s3\n",
    "training_input_path = f's3://{sess.default_bucket()}/processed/donut-sagemaker/test'\n",
    "processed_dataset[\"test\"].save_to_disk(training_input_path)\n",
    "\n",
    "print(\"uploaded data to:\")\n",
    "print(f\"training dataset to: {training_input_path}\")"
   ]
  },
  {
   "attachments": {},
   "cell_type": "markdown",
   "metadata": {},
   "source": [
    "## 4. Fine-tune and evaluate Donut model on Amazon SageMaker\n",
    "\n",
    "After we have processed our dataset, we can start training our model using a Amazon SageMaker training job using the `HuggingFace` Estimator. The Estimator handles end-to-end Amazon SageMaker training and deployment tasks. The Estimator manages the infrastructure use. \n",
    "SagMaker takes care of starting and managing all the required ec2 instances for us, provides the correct huggingface container, uploads the provided scripts and downloads the data from our S3 bucket into the container at `/opt/ml/input/data`. Then, it starts the training job by running.\n",
    "\n",
    "_Important steps we need to think of is that we extended the `DonutProcessor` earlier and added special tokens, which we need to pass through to our training script. We also need to pass the `image_size` and `max_length` to our training script._ \n",
    "\n",
    "\n",
    "As pretrained model we will use [naver-clova-ix/donut-base](https://huggingface.co/naver-clova-ix/donut-base). The `donut-base` includes only the pre-trained weights and was introduced in the paper [OCR-free Document Understanding Transformer](https://arxiv.org/abs/2111.15664) by Geewok et al. and first released in [this repository](https://github.com/clovaai/donut).\n",
    "\n",
    "In addition to loading our model, we are resizing the `embedding` layer to match newly added tokens and adjusting the `image_size` of our encoder to match our dataset. We are also adding tokens for inference later."
   ]
  },
  {
   "cell_type": "code",
   "execution_count": 118,
   "metadata": {},
   "outputs": [],
   "source": [
    "import time\n",
    "import json\n",
    "from sagemaker.huggingface import HuggingFace\n",
    "\n",
    "# define Training Job Name \n",
    "job_name = f'huggingface-donut-{time.strftime(\"%Y-%m-%d-%H-%M-%S\", time.localtime())}'\n",
    "\n",
    "# stingify special tokens\n",
    "special_tokens = \",\".join(processor.tokenizer.special_tokens_map_extended[\"additional_special_tokens\"])\n",
    "\n",
    "# hyperparameters, which are passed into the training job\n",
    "hyperparameters = {\n",
    "  'model_id': model_id,                                # pre-trained model\n",
    "  'special_tokens': json.dumps(special_tokens),        # special tokens which will be added to the tokenizer\n",
    "  'dataset_path': '/opt/ml/input/data/training',       # path where sagemaker will save training dataset\n",
    "  'epochs': 1,                                         # number of training epochs\n",
    "  'per_device_train_batch_size': 8,                    # batch size for training\n",
    "  'gradient_checkpointing': True,                    # batch size for training\n",
    "  'lr': 4e-5,                                          # learning rate used during training\n",
    "}\n",
    "\n",
    "# create the Estimator\n",
    "huggingface_estimator = HuggingFace(\n",
    "    entry_point          = 'train.py',        # train script\n",
    "    source_dir           = 'scripts',         # directory which includes all the files needed for training\n",
    "    instance_type        = 'ml.g5.2xlarge',   # instances type used for the training job\n",
    "    instance_count       = 1,                 # the number of instances used for training\n",
    "    base_job_name        = job_name,          # the name of the training job\n",
    "    role                 = role,              # Iam role used in training job to access AWS ressources, e.g. S3\n",
    "    volume_size          = 100,               # the size of the EBS volume in GB\n",
    "    transformers_version = '4.26',            # the transformers version used in the training job\n",
    "    pytorch_version      = '1.13',            # the pytorch_version version used in the training job\n",
    "    py_version           = 'py39',            # the python version used in the training job\n",
    "    hyperparameters      =  hyperparameters\n",
    ")"
   ]
  },
  {
   "cell_type": "code",
   "execution_count": 119,
   "metadata": {},
   "outputs": [
    {
     "name": "stdout",
     "output_type": "stream",
     "text": [
      "Using provided s3_resource\n"
     ]
    },
    {
     "name": "stderr",
     "output_type": "stream",
     "text": [
      "INFO:sagemaker.image_uris:image_uri is not presented, retrieving image_uri based on instance_type, framework etc.\n",
      "INFO:sagemaker:Creating training-job with name: huggingface-donut-2023-05-17-19-14-42-2023-05-17-19-14-44-283\n"
     ]
    },
    {
     "name": "stdout",
     "output_type": "stream",
     "text": [
      "2023-05-17 19:14:45 Starting - Starting the training job.........\n",
      "2023-05-17 19:15:59 Starting - Preparing the instances for training......\n",
      "2023-05-17 19:17:03 Downloading - Downloading input data......\n",
      "2023-05-17 19:17:53 Training - Downloading the training image.........\n",
      "2023-05-17 19:19:43 Training - Training image download completed. Training in progress....bash: cannot set terminal process group (-1): Inappropriate ioctl for device\n",
      "bash: no job control in this shell\n",
      "2023-05-17 19:20:12,523 sagemaker-training-toolkit INFO     Imported framework sagemaker_pytorch_container.training\n",
      "2023-05-17 19:20:12,537 sagemaker-training-toolkit INFO     No Neurons detected (normal if no neurons installed)\n",
      "2023-05-17 19:20:12,547 sagemaker_pytorch_container.training INFO     Block until all host DNS lookups succeed.\n",
      "2023-05-17 19:20:12,548 sagemaker_pytorch_container.training INFO     Invoking user training script.\n",
      "2023-05-17 19:20:12,754 sagemaker-training-toolkit INFO     No Neurons detected (normal if no neurons installed)\n",
      "2023-05-17 19:20:12,779 sagemaker-training-toolkit INFO     No Neurons detected (normal if no neurons installed)\n",
      "2023-05-17 19:20:12,804 sagemaker-training-toolkit INFO     No Neurons detected (normal if no neurons installed)\n",
      "2023-05-17 19:20:12,814 sagemaker-training-toolkit INFO     Invoking user script\n",
      "Training Env:\n",
      "{\n",
      "    \"additional_framework_parameters\": {},\n",
      "    \"channel_input_dirs\": {\n",
      "        \"training\": \"/opt/ml/input/data/training\"\n",
      "    },\n",
      "    \"current_host\": \"algo-1\",\n",
      "    \"current_instance_group\": \"homogeneousCluster\",\n",
      "    \"current_instance_group_hosts\": [\n",
      "        \"algo-1\"\n",
      "    ],\n",
      "    \"current_instance_type\": \"ml.g5.2xlarge\",\n",
      "    \"distribution_hosts\": [],\n",
      "    \"distribution_instance_groups\": [],\n",
      "    \"framework_module\": \"sagemaker_pytorch_container.training:main\",\n",
      "    \"hosts\": [\n",
      "        \"algo-1\"\n",
      "    ],\n",
      "    \"hyperparameters\": {\n",
      "        \"dataset_path\": \"/opt/ml/input/data/training\",\n",
      "        \"epochs\": 1,\n",
      "        \"gradient_checkpointing\": true,\n",
      "        \"lr\": 4e-05,\n",
      "        \"model_id\": \"naver-clova-ix/donut-base\",\n",
      "        \"per_device_train_batch_size\": 8,\n",
      "        \"special_tokens\": \"\\\"<s_total>,</s_total>,<s_date>,</s_date>,<s_company>,</s_company>,<s_address>,</s_address>,<s>,</s>\\\"\"\n",
      "    },\n",
      "    \"input_config_dir\": \"/opt/ml/input/config\",\n",
      "    \"input_data_config\": {\n",
      "        \"training\": {\n",
      "            \"TrainingInputMode\": \"File\",\n",
      "            \"S3DistributionType\": \"FullyReplicated\",\n",
      "            \"RecordWrapperType\": \"None\"\n",
      "        }\n",
      "    },\n",
      "    \"input_dir\": \"/opt/ml/input\",\n",
      "    \"instance_groups\": [\n",
      "        \"homogeneousCluster\"\n",
      "    ],\n",
      "    \"instance_groups_dict\": {\n",
      "        \"homogeneousCluster\": {\n",
      "            \"instance_group_name\": \"homogeneousCluster\",\n",
      "            \"instance_type\": \"ml.g5.2xlarge\",\n",
      "            \"hosts\": [\n",
      "                \"algo-1\"\n",
      "            ]\n",
      "        }\n",
      "    },\n",
      "    \"is_hetero\": false,\n",
      "    \"is_master\": true,\n",
      "    \"is_modelparallel_enabled\": null,\n",
      "    \"is_smddpmprun_installed\": true,\n",
      "    \"job_name\": \"huggingface-donut-2023-05-17-19-14-42-2023-05-17-19-14-44-283\",\n",
      "    \"log_level\": 20,\n",
      "    \"master_hostname\": \"algo-1\",\n",
      "    \"model_dir\": \"/opt/ml/model\",\n",
      "    \"module_dir\": \"s3://sagemaker-us-east-1-558105141721/huggingface-donut-2023-05-17-19-14-42-2023-05-17-19-14-44-283/source/sourcedir.tar.gz\",\n",
      "    \"module_name\": \"train\",\n",
      "    \"network_interface_name\": \"eth0\",\n",
      "    \"num_cpus\": 8,\n",
      "    \"num_gpus\": 1,\n",
      "    \"num_neurons\": 0,\n",
      "    \"output_data_dir\": \"/opt/ml/output/data\",\n",
      "    \"output_dir\": \"/opt/ml/output\",\n",
      "    \"output_intermediate_dir\": \"/opt/ml/output/intermediate\",\n",
      "    \"resource_config\": {\n",
      "        \"current_host\": \"algo-1\",\n",
      "        \"current_instance_type\": \"ml.g5.2xlarge\",\n",
      "        \"current_group_name\": \"homogeneousCluster\",\n",
      "        \"hosts\": [\n",
      "            \"algo-1\"\n",
      "        ],\n",
      "        \"instance_groups\": [\n",
      "            {\n",
      "                \"instance_group_name\": \"homogeneousCluster\",\n",
      "                \"instance_type\": \"ml.g5.2xlarge\",\n",
      "                \"hosts\": [\n",
      "                    \"algo-1\"\n",
      "                ]\n",
      "            }\n",
      "        ],\n",
      "        \"network_interface_name\": \"eth0\"\n",
      "    },\n",
      "    \"user_entry_point\": \"train.py\"\n",
      "}\n",
      "Environment variables:\n",
      "SM_HOSTS=[\"algo-1\"]\n",
      "SM_NETWORK_INTERFACE_NAME=eth0\n",
      "SM_HPS={\"dataset_path\":\"/opt/ml/input/data/training\",\"epochs\":1,\"gradient_checkpointing\":true,\"lr\":4e-05,\"model_id\":\"naver-clova-ix/donut-base\",\"per_device_train_batch_size\":8,\"special_tokens\":\"\\\"<s_total>,</s_total>,<s_date>,</s_date>,<s_company>,</s_company>,<s_address>,</s_address>,<s>,</s>\\\"\"}\n",
      "SM_USER_ENTRY_POINT=train.py\n",
      "SM_FRAMEWORK_PARAMS={}\n",
      "SM_RESOURCE_CONFIG={\"current_group_name\":\"homogeneousCluster\",\"current_host\":\"algo-1\",\"current_instance_type\":\"ml.g5.2xlarge\",\"hosts\":[\"algo-1\"],\"instance_groups\":[{\"hosts\":[\"algo-1\"],\"instance_group_name\":\"homogeneousCluster\",\"instance_type\":\"ml.g5.2xlarge\"}],\"network_interface_name\":\"eth0\"}\n",
      "SM_INPUT_DATA_CONFIG={\"training\":{\"RecordWrapperType\":\"None\",\"S3DistributionType\":\"FullyReplicated\",\"TrainingInputMode\":\"File\"}}\n",
      "SM_OUTPUT_DATA_DIR=/opt/ml/output/data\n",
      "SM_CHANNELS=[\"training\"]\n",
      "SM_CURRENT_HOST=algo-1\n",
      "SM_CURRENT_INSTANCE_TYPE=ml.g5.2xlarge\n",
      "SM_CURRENT_INSTANCE_GROUP=homogeneousCluster\n",
      "SM_CURRENT_INSTANCE_GROUP_HOSTS=[\"algo-1\"]\n",
      "SM_INSTANCE_GROUPS=[\"homogeneousCluster\"]\n",
      "SM_INSTANCE_GROUPS_DICT={\"homogeneousCluster\":{\"hosts\":[\"algo-1\"],\"instance_group_name\":\"homogeneousCluster\",\"instance_type\":\"ml.g5.2xlarge\"}}\n",
      "SM_DISTRIBUTION_INSTANCE_GROUPS=[]\n",
      "SM_IS_HETERO=false\n",
      "SM_MODULE_NAME=train\n",
      "SM_LOG_LEVEL=20\n",
      "SM_FRAMEWORK_MODULE=sagemaker_pytorch_container.training:main\n",
      "SM_INPUT_DIR=/opt/ml/input\n",
      "SM_INPUT_CONFIG_DIR=/opt/ml/input/config\n",
      "SM_OUTPUT_DIR=/opt/ml/output\n",
      "SM_NUM_CPUS=8\n",
      "SM_NUM_GPUS=1\n",
      "SM_NUM_NEURONS=0\n",
      "SM_MODEL_DIR=/opt/ml/model\n",
      "SM_MODULE_DIR=s3://sagemaker-us-east-1-558105141721/huggingface-donut-2023-05-17-19-14-42-2023-05-17-19-14-44-283/source/sourcedir.tar.gz\n",
      "SM_TRAINING_ENV={\"additional_framework_parameters\":{},\"channel_input_dirs\":{\"training\":\"/opt/ml/input/data/training\"},\"current_host\":\"algo-1\",\"current_instance_group\":\"homogeneousCluster\",\"current_instance_group_hosts\":[\"algo-1\"],\"current_instance_type\":\"ml.g5.2xlarge\",\"distribution_hosts\":[],\"distribution_instance_groups\":[],\"framework_module\":\"sagemaker_pytorch_container.training:main\",\"hosts\":[\"algo-1\"],\"hyperparameters\":{\"dataset_path\":\"/opt/ml/input/data/training\",\"epochs\":1,\"gradient_checkpointing\":true,\"lr\":4e-05,\"model_id\":\"naver-clova-ix/donut-base\",\"per_device_train_batch_size\":8,\"special_tokens\":\"\\\"<s_total>,</s_total>,<s_date>,</s_date>,<s_company>,</s_company>,<s_address>,</s_address>,<s>,</s>\\\"\"},\"input_config_dir\":\"/opt/ml/input/config\",\"input_data_config\":{\"training\":{\"RecordWrapperType\":\"None\",\"S3DistributionType\":\"FullyReplicated\",\"TrainingInputMode\":\"File\"}},\"input_dir\":\"/opt/ml/input\",\"instance_groups\":[\"homogeneousCluster\"],\"instance_groups_dict\":{\"homogeneousCluster\":{\"hosts\":[\"algo-1\"],\"instance_group_name\":\"homogeneousCluster\",\"instance_type\":\"ml.g5.2xlarge\"}},\"is_hetero\":false,\"is_master\":true,\"is_modelparallel_enabled\":null,\"is_smddpmprun_installed\":true,\"job_name\":\"huggingface-donut-2023-05-17-19-14-42-2023-05-17-19-14-44-283\",\"log_level\":20,\"master_hostname\":\"algo-1\",\"model_dir\":\"/opt/ml/model\",\"module_dir\":\"s3://sagemaker-us-east-1-558105141721/huggingface-donut-2023-05-17-19-14-42-2023-05-17-19-14-44-283/source/sourcedir.tar.gz\",\"module_name\":\"train\",\"network_interface_name\":\"eth0\",\"num_cpus\":8,\"num_gpus\":1,\"num_neurons\":0,\"output_data_dir\":\"/opt/ml/output/data\",\"output_dir\":\"/opt/ml/output\",\"output_intermediate_dir\":\"/opt/ml/output/intermediate\",\"resource_config\":{\"current_group_name\":\"homogeneousCluster\",\"current_host\":\"algo-1\",\"current_instance_type\":\"ml.g5.2xlarge\",\"hosts\":[\"algo-1\"],\"instance_groups\":[{\"hosts\":[\"algo-1\"],\"instance_group_name\":\"homogeneousCluster\",\"instance_type\":\"ml.g5.2xlarge\"}],\"network_interface_name\":\"eth0\"},\"user_entry_point\":\"train.py\"}\n",
      "SM_USER_ARGS=[\"--dataset_path\",\"/opt/ml/input/data/training\",\"--epochs\",\"1\",\"--gradient_checkpointing\",\"True\",\"--lr\",\"4e-05\",\"--model_id\",\"naver-clova-ix/donut-base\",\"--per_device_train_batch_size\",\"8\",\"--special_tokens\",\"\\\"<s_total>,</s_total>,<s_date>,</s_date>,<s_company>,</s_company>,<s_address>,</s_address>,<s>,</s>\\\"\"]\n",
      "SM_OUTPUT_INTERMEDIATE_DIR=/opt/ml/output/intermediate\n",
      "SM_CHANNEL_TRAINING=/opt/ml/input/data/training\n",
      "SM_HP_DATASET_PATH=/opt/ml/input/data/training\n",
      "SM_HP_EPOCHS=1\n",
      "SM_HP_GRADIENT_CHECKPOINTING=true\n",
      "SM_HP_LR=4e-05\n",
      "SM_HP_MODEL_ID=naver-clova-ix/donut-base\n",
      "SM_HP_PER_DEVICE_TRAIN_BATCH_SIZE=8\n",
      "SM_HP_SPECIAL_TOKENS=\"<s_total>,</s_total>,<s_date>,</s_date>,<s_company>,</s_company>,<s_address>,</s_address>,<s>,</s>\"\n",
      "PYTHONPATH=/opt/ml/code:/opt/conda/bin:/opt/conda/lib/python39.zip:/opt/conda/lib/python3.9:/opt/conda/lib/python3.9/lib-dynload:/opt/conda/lib/python3.9/site-packages\n",
      "Invoking script with the following command:\n",
      "/opt/conda/bin/python3.9 train.py --dataset_path /opt/ml/input/data/training --epochs 1 --gradient_checkpointing True --lr 4e-05 --model_id naver-clova-ix/donut-base --per_device_train_batch_size 8 --special_tokens \"<s_total>,</s_total>,<s_date>,</s_date>,<s_company>,</s_company>,<s_address>,</s_address>,<s>,</s>\"\n",
      "[2023-05-17 19:20:14.393: W smdistributed/modelparallel/torch/nn/predefined_hooks.py:78] Found unsupported HuggingFace version 4.26.0 for automated tensor parallelism. HuggingFace modules will not be automatically distributed. You can use smp.tp_register_with_module API to register desired modules for tensor parallelism, or directly instantiate an smp.nn.DistributedModule. Supported HuggingFace transformers versions for automated tensor parallelism: ['4.17.0', '4.20.1', '4.21.0']\n",
      "2023-05-17 19:20:14,397 root         INFO     Using NamedTuple = typing._NamedTuple instead.\n",
      "2023-05-17 19:20:14,417 sagemaker-training-toolkit INFO     Exceptions not imported for SageMaker TF as Tensorflow is not installed.\n",
      "2023-05-17 19:20:17,649 - __main__ - INFO - loaded train_dataset length is: 563\n",
      "Downloading (…)rocessor_config.json:   0%|          | 0.00/362 [00:00<?, ?B/s]\n",
      "Downloading (…)rocessor_config.json: 100%|██████████| 362/362 [00:00<00:00, 92.9kB/s]\n",
      "Could not find image processor class in the image processor config or the model config. Loading based on pattern matching with the model's feature extractor configuration.\n",
      "Could not find image processor class in the image processor config or the model config. Loading based on pattern matching with the model's feature extractor configuration.\n",
      "Downloading (…)okenizer_config.json:   0%|          | 0.00/518 [00:00<?, ?B/s]\n",
      "Downloading (…)okenizer_config.json: 100%|██████████| 518/518 [00:00<00:00, 187kB/s]\n",
      "Downloading (…)ncepiece.bpe.model\";:   0%|          | 0.00/1.30M [00:00<?, ?B/s]\n",
      "Downloading (…)ncepiece.bpe.model\";: 100%|██████████| 1.30M/1.30M [00:00<00:00, 162MB/s]\n",
      "Downloading (…)/main/tokenizer.json:   0%|          | 0.00/4.01M [00:00<?, ?B/s]\n",
      "Downloading (…)/main/tokenizer.json: 100%|██████████| 4.01M/4.01M [00:00<00:00, 76.2MB/s]\n",
      "Downloading (…)in/added_tokens.json:   0%|          | 0.00/71.0 [00:00<?, ?B/s]\n",
      "Downloading (…)in/added_tokens.json: 100%|██████████| 71.0/71.0 [00:00<00:00, 48.2kB/s]\n",
      "Downloading (…)cial_tokens_map.json:   0%|          | 0.00/355 [00:00<?, ?B/s]\n",
      "Downloading (…)cial_tokens_map.json: 100%|██████████| 355/355 [00:00<00:00, 238kB/s]\n",
      "/opt/conda/lib/python3.9/site-packages/transformers/models/donut/processing_donut.py:186: FutureWarning: `feature_extractor` is deprecated and will be removed in v5. Use `image_processor` instead.\n",
      "  warnings.warn(\n",
      "Downloading (…)lve/main/config.json:   0%|          | 0.00/4.74k [00:00<?, ?B/s]\n",
      "Downloading (…)lve/main/config.json: 100%|██████████| 4.74k/4.74k [00:00<00:00, 1.35MB/s]\n",
      "Downloading (…)\"pytorch_model.bin\";:   0%|          | 0.00/809M [00:00<?, ?B/s]\n",
      "Downloading (…)\"pytorch_model.bin\";:   3%|▎         | 21.0M/809M [00:00<00:05, 150MB/s]\n",
      "Downloading (…)\"pytorch_model.bin\";:   6%|▋         | 52.4M/809M [00:00<00:03, 196MB/s]\n",
      "Downloading (…)\"pytorch_model.bin\";:  12%|█▏        | 94.4M/809M [00:00<00:02, 278MB/s]\n",
      "Downloading (…)\"pytorch_model.bin\";:  18%|█▊        | 147M/809M [00:00<00:01, 355MB/s]\n",
      "Downloading (…)\"pytorch_model.bin\";:  25%|██▍       | 199M/809M [00:00<00:01, 407MB/s]\n",
      "Downloading (…)\"pytorch_model.bin\";:  31%|███       | 252M/809M [00:00<00:01, 401MB/s]\n",
      "Downloading (…)\"pytorch_model.bin\";:  36%|███▋      | 294M/809M [00:00<00:01, 398MB/s]\n",
      "Downloading (…)\"pytorch_model.bin\";:  41%|████▏     | 336M/809M [00:00<00:01, 355MB/s]\n",
      "Downloading (…)\"pytorch_model.bin\";:  48%|████▊     | 388M/809M [00:01<00:01, 382MB/s]\n",
      "Downloading (…)\"pytorch_model.bin\";:  54%|█████▍    | 440M/809M [00:01<00:00, 414MB/s]\n",
      "Downloading (…)\"pytorch_model.bin\";:  61%|██████    | 493M/809M [00:01<00:00, 424MB/s]\n",
      "Downloading (…)\"pytorch_model.bin\";:  67%|██████▋   | 545M/809M [00:01<00:00, 393MB/s]\n",
      "Downloading (…)\"pytorch_model.bin\";:  74%|███████▍  | 598M/809M [00:01<00:00, 419MB/s]\n",
      "Downloading (…)\"pytorch_model.bin\";:  80%|████████  | 650M/809M [00:01<00:00, 446MB/s]\n",
      "Downloading (…)\"pytorch_model.bin\";:  87%|████████▋ | 703M/809M [00:01<00:00, 464MB/s]\n",
      "Downloading (…)\"pytorch_model.bin\";:  93%|█████████▎| 755M/809M [00:01<00:00, 412MB/s]\n",
      "Downloading (…)\"pytorch_model.bin\";: 100%|█████████▉| 807M/809M [00:02<00:00, 413MB/s]\n",
      "Downloading (…)\"pytorch_model.bin\";: 100%|██████████| 809M/809M [00:02<00:00, 389MB/s]\n",
      "Using cuda_amp half precision backend\n",
      "Using cuda_amp half precision backend\n",
      "The following columns in the training set don't have a corresponding argument in `VisionEncoderDecoderModel.forward` and have been ignored: target_sequence. If target_sequence are not expected by `VisionEncoderDecoderModel.forward`,  you can safely ignore this message.\n",
      "The following columns in the training set don't have a corresponding argument in `VisionEncoderDecoderModel.forward` and have been ignored: target_sequence. If target_sequence are not expected by `VisionEncoderDecoderModel.forward`,  you can safely ignore this message.\n",
      "/opt/conda/lib/python3.9/site-packages/transformers/optimization.py:306: FutureWarning: This implementation of AdamW is deprecated and will be removed in a future version. Use the PyTorch implementation torch.optim.AdamW instead, or set `no_deprecation_warning=True` to disable this warning\n",
      "  warnings.warn(\n",
      "***** Running training *****\n",
      "***** Running training *****\n",
      "  Num examples = 563\n",
      "Num examples = 563\n",
      "  Num Epochs = 1\n",
      "  Instantaneous batch size per device = 8\n",
      "  Total train batch size (w. parallel, distributed & accumulation) = 8\n",
      "Gradient Accumulation steps = 1\n",
      "  Total optimization steps = 71\n",
      "Num Epochs = 1\n",
      "  Instantaneous batch size per device = 8\n",
      "  Total train batch size (w. parallel, distributed & accumulation) = 8\n",
      "  Gradient Accumulation steps = 1\n",
      "  Total optimization steps = 71\n",
      "Number of trainable parameters = 201860216\n",
      "Number of trainable parameters = 201860216\n",
      "0%|          | 0/71 [00:00<?, ?it/s]\n",
      "[2023-05-17 19:21:52.179: W smdistributed/modelparallel/torch/nn/predefined_hooks.py:78] Found unsupported HuggingFace version 4.26.0 for automated tensor parallelism. HuggingFace modules will not be automatically distributed. You can use smp.tp_register_with_module API to register desired modules for tensor parallelism, or directly instantiate an smp.nn.DistributedModule. Supported HuggingFace transformers versions for automated tensor parallelism: ['4.17.0', '4.20.1', '4.21.0']\n",
      "2023-05-17 19:21:52,183 - root - INFO - Using NamedTuple = typing._NamedTuple instead.\n",
      "[2023-05-17 19:21:52.206 algo-1:49 INFO utils.py:28] RULE_JOB_STOP_SIGNAL_FILENAME: None\n",
      "[2023-05-17 19:21:52.226 algo-1:49 INFO profiler_config_parser.py:111] User has disabled profiler.\n",
      "[2023-05-17 19:21:52.226 algo-1:49 INFO json_config.py:92] Creating hook from json_config at /opt/ml/input/config/debughookconfig.json.\n",
      "[2023-05-17 19:21:52.227 algo-1:49 INFO hook.py:206] tensorboard_dir has not been set for the hook. SMDebug will not be exporting tensorboard summaries.\n",
      "[2023-05-17 19:21:52.227 algo-1:49 INFO hook.py:259] Saving to /opt/ml/output/tensors\n",
      "[2023-05-17 19:21:52.227 algo-1:49 INFO state_store.py:77] The checkpoint config file /opt/ml/input/config/checkpointconfig.json does not exist.\n",
      "`use_cache=True` is incompatible with gradient checkpointing`. Setting `use_cache=False`...\n",
      "`use_cache=True` is incompatible with gradient checkpointing`. Setting `use_cache=False`...\n",
      "1%|▏         | 1/71 [00:09<10:38,  9.12s/it]\n",
      "`use_cache=True` is incompatible with gradient checkpointing`. Setting `use_cache=False`...\n",
      "`use_cache=True` is incompatible with gradient checkpointing`. Setting `use_cache=False`...\n",
      "3%|▎         | 2/71 [00:17<09:46,  8.50s/it]\n",
      "`use_cache=True` is incompatible with gradient checkpointing`. Setting `use_cache=False`...\n",
      "`use_cache=True` is incompatible with gradient checkpointing`. Setting `use_cache=False`...\n",
      "4%|▍         | 3/71 [00:25<09:35,  8.47s/it]\n",
      "`use_cache=True` is incompatible with gradient checkpointing`. Setting `use_cache=False`...\n",
      "`use_cache=True` is incompatible with gradient checkpointing`. Setting `use_cache=False`...\n",
      "6%|▌         | 4/71 [00:33<09:21,  8.38s/it]\n",
      "`use_cache=True` is incompatible with gradient checkpointing`. Setting `use_cache=False`...\n",
      "`use_cache=True` is incompatible with gradient checkpointing`. Setting `use_cache=False`...\n",
      "7%|▋         | 5/71 [00:42<09:10,  8.34s/it]\n",
      "`use_cache=True` is incompatible with gradient checkpointing`. Setting `use_cache=False`...\n",
      "`use_cache=True` is incompatible with gradient checkpointing`. Setting `use_cache=False`...\n",
      "8%|▊         | 6/71 [00:50<08:59,  8.30s/it]\n",
      "`use_cache=True` is incompatible with gradient checkpointing`. Setting `use_cache=False`...\n",
      "`use_cache=True` is incompatible with gradient checkpointing`. Setting `use_cache=False`...\n",
      "10%|▉         | 7/71 [00:58<08:58,  8.41s/it]\n",
      "`use_cache=True` is incompatible with gradient checkpointing`. Setting `use_cache=False`...\n",
      "`use_cache=True` is incompatible with gradient checkpointing`. Setting `use_cache=False`...\n",
      "11%|█▏        | 8/71 [01:07<08:46,  8.35s/it]\n",
      "`use_cache=True` is incompatible with gradient checkpointing`. Setting `use_cache=False`...\n",
      "`use_cache=True` is incompatible with gradient checkpointing`. Setting `use_cache=False`...\n",
      "13%|█▎        | 9/71 [01:15<08:34,  8.30s/it]\n",
      "`use_cache=True` is incompatible with gradient checkpointing`. Setting `use_cache=False`...\n",
      "`use_cache=True` is incompatible with gradient checkpointing`. Setting `use_cache=False`...\n",
      "14%|█▍        | 10/71 [01:23<08:29,  8.35s/it]\n",
      "`use_cache=True` is incompatible with gradient checkpointing`. Setting `use_cache=False`...\n",
      "`use_cache=True` is incompatible with gradient checkpointing`. Setting `use_cache=False`...\n",
      "15%|█▌        | 11/71 [01:32<08:22,  8.37s/it]\n",
      "`use_cache=True` is incompatible with gradient checkpointing`. Setting `use_cache=False`...\n",
      "`use_cache=True` is incompatible with gradient checkpointing`. Setting `use_cache=False`...\n",
      "17%|█▋        | 12/71 [01:40<08:15,  8.39s/it]\n",
      "`use_cache=True` is incompatible with gradient checkpointing`. Setting `use_cache=False`...\n",
      "`use_cache=True` is incompatible with gradient checkpointing`. Setting `use_cache=False`...\n",
      "18%|█▊        | 13/71 [01:48<08:03,  8.33s/it]\n",
      "`use_cache=True` is incompatible with gradient checkpointing`. Setting `use_cache=False`...\n",
      "`use_cache=True` is incompatible with gradient checkpointing`. Setting `use_cache=False`...\n",
      "20%|█▉        | 14/71 [01:57<07:52,  8.29s/it]\n",
      "`use_cache=True` is incompatible with gradient checkpointing`. Setting `use_cache=False`...\n",
      "`use_cache=True` is incompatible with gradient checkpointing`. Setting `use_cache=False`...\n",
      "21%|██        | 15/71 [02:05<07:42,  8.26s/it]\n",
      "`use_cache=True` is incompatible with gradient checkpointing`. Setting `use_cache=False`...\n",
      "`use_cache=True` is incompatible with gradient checkpointing`. Setting `use_cache=False`...\n",
      "23%|██▎       | 16/71 [02:13<07:38,  8.34s/it]\n",
      "`use_cache=True` is incompatible with gradient checkpointing`. Setting `use_cache=False`...\n",
      "`use_cache=True` is incompatible with gradient checkpointing`. Setting `use_cache=False`...\n",
      "24%|██▍       | 17/71 [02:22<07:31,  8.35s/it]\n",
      "`use_cache=True` is incompatible with gradient checkpointing`. Setting `use_cache=False`...\n",
      "`use_cache=True` is incompatible with gradient checkpointing`. Setting `use_cache=False`...\n",
      "25%|██▌       | 18/71 [02:30<07:25,  8.42s/it]\n",
      "`use_cache=True` is incompatible with gradient checkpointing`. Setting `use_cache=False`...\n",
      "`use_cache=True` is incompatible with gradient checkpointing`. Setting `use_cache=False`...\n",
      "27%|██▋       | 19/71 [02:38<07:13,  8.34s/it]\n",
      "`use_cache=True` is incompatible with gradient checkpointing`. Setting `use_cache=False`...\n",
      "`use_cache=True` is incompatible with gradient checkpointing`. Setting `use_cache=False`...\n",
      "28%|██▊       | 20/71 [02:47<07:03,  8.31s/it]\n",
      "{'loss': 4.4932, 'learning_rate': 2.8732394366197188e-05, 'epoch': 0.28}\n",
      "28%|██▊       | 20/71 [02:47<07:03,  8.31s/it]\n",
      "`use_cache=True` is incompatible with gradient checkpointing`. Setting `use_cache=False`...\n",
      "`use_cache=True` is incompatible with gradient checkpointing`. Setting `use_cache=False`...\n",
      "30%|██▉       | 21/71 [02:55<06:56,  8.33s/it]\n",
      "`use_cache=True` is incompatible with gradient checkpointing`. Setting `use_cache=False`...\n",
      "`use_cache=True` is incompatible with gradient checkpointing`. Setting `use_cache=False`...\n",
      "31%|███       | 22/71 [03:03<06:46,  8.30s/it]\n",
      "`use_cache=True` is incompatible with gradient checkpointing`. Setting `use_cache=False`...\n",
      "`use_cache=True` is incompatible with gradient checkpointing`. Setting `use_cache=False`...\n",
      "32%|███▏      | 23/71 [03:12<06:37,  8.28s/it]\n",
      "`use_cache=True` is incompatible with gradient checkpointing`. Setting `use_cache=False`...\n",
      "`use_cache=True` is incompatible with gradient checkpointing`. Setting `use_cache=False`...\n",
      "34%|███▍      | 24/71 [03:20<06:32,  8.35s/it]\n",
      "`use_cache=True` is incompatible with gradient checkpointing`. Setting `use_cache=False`...\n",
      "`use_cache=True` is incompatible with gradient checkpointing`. Setting `use_cache=False`...\n",
      "35%|███▌      | 25/71 [03:28<06:24,  8.36s/it]\n",
      "`use_cache=True` is incompatible with gradient checkpointing`. Setting `use_cache=False`...\n",
      "`use_cache=True` is incompatible with gradient checkpointing`. Setting `use_cache=False`...\n",
      "37%|███▋      | 26/71 [03:37<06:16,  8.37s/it]\n",
      "`use_cache=True` is incompatible with gradient checkpointing`. Setting `use_cache=False`...\n",
      "`use_cache=True` is incompatible with gradient checkpointing`. Setting `use_cache=False`...\n",
      "38%|███▊      | 27/71 [03:45<06:07,  8.35s/it]\n",
      "`use_cache=True` is incompatible with gradient checkpointing`. Setting `use_cache=False`...\n",
      "`use_cache=True` is incompatible with gradient checkpointing`. Setting `use_cache=False`...\n",
      "39%|███▉      | 28/71 [03:53<05:57,  8.32s/it]\n",
      "`use_cache=True` is incompatible with gradient checkpointing`. Setting `use_cache=False`...\n",
      "`use_cache=True` is incompatible with gradient checkpointing`. Setting `use_cache=False`...\n",
      "41%|████      | 29/71 [04:02<05:50,  8.33s/it]\n",
      "`use_cache=True` is incompatible with gradient checkpointing`. Setting `use_cache=False`...\n",
      "`use_cache=True` is incompatible with gradient checkpointing`. Setting `use_cache=False`...\n",
      "42%|████▏     | 30/71 [04:10<05:39,  8.29s/it]\n",
      "`use_cache=True` is incompatible with gradient checkpointing`. Setting `use_cache=False`...\n",
      "`use_cache=True` is incompatible with gradient checkpointing`. Setting `use_cache=False`...\n",
      "44%|████▎     | 31/71 [04:18<05:31,  8.28s/it]\n",
      "`use_cache=True` is incompatible with gradient checkpointing`. Setting `use_cache=False`...\n",
      "`use_cache=True` is incompatible with gradient checkpointing`. Setting `use_cache=False`...\n",
      "45%|████▌     | 32/71 [04:27<05:24,  8.32s/it]\n",
      "`use_cache=True` is incompatible with gradient checkpointing`. Setting `use_cache=False`...\n",
      "`use_cache=True` is incompatible with gradient checkpointing`. Setting `use_cache=False`...\n",
      "46%|████▋     | 33/71 [04:35<05:16,  8.34s/it]\n",
      "`use_cache=True` is incompatible with gradient checkpointing`. Setting `use_cache=False`...\n",
      "`use_cache=True` is incompatible with gradient checkpointing`. Setting `use_cache=False`...\n",
      "48%|████▊     | 34/71 [04:43<05:07,  8.31s/it]\n",
      "`use_cache=True` is incompatible with gradient checkpointing`. Setting `use_cache=False`...\n",
      "`use_cache=True` is incompatible with gradient checkpointing`. Setting `use_cache=False`...\n",
      "49%|████▉     | 35/71 [04:51<04:57,  8.25s/it]\n",
      "`use_cache=True` is incompatible with gradient checkpointing`. Setting `use_cache=False`...\n",
      "`use_cache=True` is incompatible with gradient checkpointing`. Setting `use_cache=False`...\n",
      "51%|█████     | 36/71 [05:00<04:49,  8.27s/it]\n",
      "`use_cache=True` is incompatible with gradient checkpointing`. Setting `use_cache=False`...\n",
      "`use_cache=True` is incompatible with gradient checkpointing`. Setting `use_cache=False`...\n",
      "52%|█████▏    | 37/71 [05:08<04:40,  8.25s/it]\n",
      "`use_cache=True` is incompatible with gradient checkpointing`. Setting `use_cache=False`...\n",
      "`use_cache=True` is incompatible with gradient checkpointing`. Setting `use_cache=False`...\n",
      "54%|█████▎    | 38/71 [05:16<04:35,  8.35s/it]\n",
      "`use_cache=True` is incompatible with gradient checkpointing`. Setting `use_cache=False`...\n",
      "`use_cache=True` is incompatible with gradient checkpointing`. Setting `use_cache=False`...\n",
      "55%|█████▍    | 39/71 [05:25<04:25,  8.29s/it]\n",
      "`use_cache=True` is incompatible with gradient checkpointing`. Setting `use_cache=False`...\n",
      "`use_cache=True` is incompatible with gradient checkpointing`. Setting `use_cache=False`...\n",
      "56%|█████▋    | 40/71 [05:33<04:17,  8.30s/it]\n",
      "{'loss': 1.9424, 'learning_rate': 1.7464788732394366e-05, 'epoch': 0.56}\n",
      "56%|█████▋    | 40/71 [05:33<04:17,  8.30s/it]\n",
      "`use_cache=True` is incompatible with gradient checkpointing`. Setting `use_cache=False`...\n",
      "`use_cache=True` is incompatible with gradient checkpointing`. Setting `use_cache=False`...\n",
      "58%|█████▊    | 41/71 [05:41<04:10,  8.34s/it]\n",
      "`use_cache=True` is incompatible with gradient checkpointing`. Setting `use_cache=False`...\n",
      "`use_cache=True` is incompatible with gradient checkpointing`. Setting `use_cache=False`...\n",
      "59%|█████▉    | 42/71 [05:50<04:02,  8.35s/it]\n",
      "`use_cache=True` is incompatible with gradient checkpointing`. Setting `use_cache=False`...\n",
      "`use_cache=True` is incompatible with gradient checkpointing`. Setting `use_cache=False`...\n",
      "61%|██████    | 43/71 [05:58<03:54,  8.36s/it]\n",
      "`use_cache=True` is incompatible with gradient checkpointing`. Setting `use_cache=False`...\n",
      "`use_cache=True` is incompatible with gradient checkpointing`. Setting `use_cache=False`...\n",
      "62%|██████▏   | 44/71 [06:06<03:45,  8.35s/it]\n",
      "`use_cache=True` is incompatible with gradient checkpointing`. Setting `use_cache=False`...\n",
      "`use_cache=True` is incompatible with gradient checkpointing`. Setting `use_cache=False`...\n",
      "63%|██████▎   | 45/71 [06:15<03:37,  8.36s/it]\n",
      "`use_cache=True` is incompatible with gradient checkpointing`. Setting `use_cache=False`...\n",
      "`use_cache=True` is incompatible with gradient checkpointing`. Setting `use_cache=False`...\n",
      "65%|██████▍   | 46/71 [06:23<03:27,  8.31s/it]\n",
      "`use_cache=True` is incompatible with gradient checkpointing`. Setting `use_cache=False`...\n",
      "`use_cache=True` is incompatible with gradient checkpointing`. Setting `use_cache=False`...\n",
      "66%|██████▌   | 47/71 [06:31<03:20,  8.35s/it]\n",
      "`use_cache=True` is incompatible with gradient checkpointing`. Setting `use_cache=False`...\n",
      "`use_cache=True` is incompatible with gradient checkpointing`. Setting `use_cache=False`...\n",
      "68%|██████▊   | 48/71 [06:40<03:10,  8.27s/it]\n",
      "`use_cache=True` is incompatible with gradient checkpointing`. Setting `use_cache=False`...\n",
      "`use_cache=True` is incompatible with gradient checkpointing`. Setting `use_cache=False`...\n",
      "69%|██████▉   | 49/71 [06:48<03:01,  8.23s/it]\n",
      "`use_cache=True` is incompatible with gradient checkpointing`. Setting `use_cache=False`...\n",
      "`use_cache=True` is incompatible with gradient checkpointing`. Setting `use_cache=False`...\n",
      "70%|███████   | 50/71 [06:56<02:53,  8.24s/it]\n",
      "`use_cache=True` is incompatible with gradient checkpointing`. Setting `use_cache=False`...\n",
      "`use_cache=True` is incompatible with gradient checkpointing`. Setting `use_cache=False`...\n",
      "72%|███████▏  | 51/71 [07:04<02:45,  8.26s/it]\n",
      "`use_cache=True` is incompatible with gradient checkpointing`. Setting `use_cache=False`...\n",
      "`use_cache=True` is incompatible with gradient checkpointing`. Setting `use_cache=False`...\n",
      "73%|███████▎  | 52/71 [07:12<02:37,  8.27s/it]\n",
      "`use_cache=True` is incompatible with gradient checkpointing`. Setting `use_cache=False`...\n",
      "`use_cache=True` is incompatible with gradient checkpointing`. Setting `use_cache=False`...\n",
      "75%|███████▍  | 53/71 [07:21<02:29,  8.28s/it]\n",
      "`use_cache=True` is incompatible with gradient checkpointing`. Setting `use_cache=False`...\n",
      "`use_cache=True` is incompatible with gradient checkpointing`. Setting `use_cache=False`...\n",
      "76%|███████▌  | 54/71 [07:29<02:21,  8.32s/it]\n",
      "`use_cache=True` is incompatible with gradient checkpointing`. Setting `use_cache=False`...\n",
      "`use_cache=True` is incompatible with gradient checkpointing`. Setting `use_cache=False`...\n",
      "77%|███████▋  | 55/71 [07:38<02:13,  8.33s/it]\n",
      "`use_cache=True` is incompatible with gradient checkpointing`. Setting `use_cache=False`...\n",
      "`use_cache=True` is incompatible with gradient checkpointing`. Setting `use_cache=False`...\n",
      "79%|███████▉  | 56/71 [07:46<02:03,  8.25s/it]\n",
      "`use_cache=True` is incompatible with gradient checkpointing`. Setting `use_cache=False`...\n",
      "`use_cache=True` is incompatible with gradient checkpointing`. Setting `use_cache=False`...\n",
      "80%|████████  | 57/71 [07:54<01:55,  8.23s/it]\n",
      "`use_cache=True` is incompatible with gradient checkpointing`. Setting `use_cache=False`...\n",
      "`use_cache=True` is incompatible with gradient checkpointing`. Setting `use_cache=False`...\n",
      "82%|████████▏ | 58/71 [08:02<01:47,  8.24s/it]\n",
      "`use_cache=True` is incompatible with gradient checkpointing`. Setting `use_cache=False`...\n",
      "`use_cache=True` is incompatible with gradient checkpointing`. Setting `use_cache=False`...\n",
      "83%|████████▎ | 59/71 [08:10<01:39,  8.29s/it]\n",
      "`use_cache=True` is incompatible with gradient checkpointing`. Setting `use_cache=False`...\n",
      "`use_cache=True` is incompatible with gradient checkpointing`. Setting `use_cache=False`...\n",
      "85%|████████▍ | 60/71 [08:19<01:31,  8.35s/it]\n",
      "{'loss': 1.1543, 'learning_rate': 6.197183098591549e-06, 'epoch': 0.85}\n",
      "85%|████████▍ | 60/71 [08:19<01:31,  8.35s/it]\n",
      "`use_cache=True` is incompatible with gradient checkpointing`. Setting `use_cache=False`...\n",
      "`use_cache=True` is incompatible with gradient checkpointing`. Setting `use_cache=False`...\n",
      "86%|████████▌ | 61/71 [08:27<01:22,  8.29s/it]\n",
      "`use_cache=True` is incompatible with gradient checkpointing`. Setting `use_cache=False`...\n",
      "`use_cache=True` is incompatible with gradient checkpointing`. Setting `use_cache=False`...\n",
      "87%|████████▋ | 62/71 [08:35<01:14,  8.27s/it]\n",
      "`use_cache=True` is incompatible with gradient checkpointing`. Setting `use_cache=False`...\n",
      "`use_cache=True` is incompatible with gradient checkpointing`. Setting `use_cache=False`...\n",
      "89%|████████▊ | 63/71 [08:44<01:06,  8.30s/it]\n",
      "`use_cache=True` is incompatible with gradient checkpointing`. Setting `use_cache=False`...\n",
      "`use_cache=True` is incompatible with gradient checkpointing`. Setting `use_cache=False`...\n",
      "90%|█████████ | 64/71 [08:52<00:58,  8.29s/it]\n",
      "`use_cache=True` is incompatible with gradient checkpointing`. Setting `use_cache=False`...\n",
      "`use_cache=True` is incompatible with gradient checkpointing`. Setting `use_cache=False`...\n",
      "92%|█████████▏| 65/71 [09:01<00:50,  8.36s/it]\n",
      "`use_cache=True` is incompatible with gradient checkpointing`. Setting `use_cache=False`...\n",
      "`use_cache=True` is incompatible with gradient checkpointing`. Setting `use_cache=False`...\n",
      "93%|█████████▎| 66/71 [09:09<00:41,  8.36s/it]\n",
      "`use_cache=True` is incompatible with gradient checkpointing`. Setting `use_cache=False`...\n",
      "`use_cache=True` is incompatible with gradient checkpointing`. Setting `use_cache=False`...\n",
      "94%|█████████▍| 67/71 [09:17<00:33,  8.29s/it]\n",
      "`use_cache=True` is incompatible with gradient checkpointing`. Setting `use_cache=False`...\n",
      "`use_cache=True` is incompatible with gradient checkpointing`. Setting `use_cache=False`...\n",
      "96%|█████████▌| 68/71 [09:25<00:24,  8.33s/it]\n",
      "`use_cache=True` is incompatible with gradient checkpointing`. Setting `use_cache=False`...\n",
      "`use_cache=True` is incompatible with gradient checkpointing`. Setting `use_cache=False`...\n",
      "97%|█████████▋| 69/71 [09:34<00:16,  8.34s/it]\n",
      "`use_cache=True` is incompatible with gradient checkpointing`. Setting `use_cache=False`...\n",
      "`use_cache=True` is incompatible with gradient checkpointing`. Setting `use_cache=False`...\n",
      "99%|█████████▊| 70/71 [09:42<00:08,  8.28s/it]\n",
      "`use_cache=True` is incompatible with gradient checkpointing`. Setting `use_cache=False`...\n",
      "`use_cache=True` is incompatible with gradient checkpointing`. Setting `use_cache=False`...\n",
      "100%|██████████| 71/71 [09:45<00:00,  6.76s/it]\n",
      "Saving model checkpoint to /tmp/checkpoint-71\n",
      "Saving model checkpoint to /tmp/checkpoint-71\n",
      "Configuration saved in /tmp/checkpoint-71/config.json\n",
      "Configuration saved in /tmp/checkpoint-71/config.json\n",
      "Configuration saved in /tmp/checkpoint-71/generation_config.json\n",
      "Configuration saved in /tmp/checkpoint-71/generation_config.json\n",
      "Model weights saved in /tmp/checkpoint-71/pytorch_model.bin\n",
      "Model weights saved in /tmp/checkpoint-71/pytorch_model.bin\n",
      "Training completed. Do not forget to share your model on huggingface.co/models =)\n",
      "Training completed. Do not forget to share your model on huggingface.co/models =)\n",
      "100%|██████████| 71/71 [09:48<00:00,  6.76s/it]\n",
      "{'train_runtime': 588.1214, 'train_samples_per_second': 0.957, 'train_steps_per_second': 0.121, 'train_loss': 2.2629475526406733, 'epoch': 1.0}\n",
      "100%|██████████| 71/71 [09:48<00:00,  8.28s/it]\n",
      "Configuration saved in /opt/ml/model/config.json\n",
      "Configuration saved in /opt/ml/model/config.json\n",
      "Configuration saved in /opt/ml/model/generation_config.json\n",
      "Configuration saved in /opt/ml/model/generation_config.json\n",
      "Model weights saved in /opt/ml/model/pytorch_model.bin\n",
      "Model weights saved in /opt/ml/model/pytorch_model.bin\n",
      "loading file sentencepiece.bpe.model from cache at /root/.cache/huggingface/hub/models--naver-clova-ix--donut-base/snapshots/a959cf33c20e09215873e338299c900f57047c61/sentencepiece.bpe.model\n",
      "loading file tokenizer.json from cache at /root/.cache/huggingface/hub/models--naver-clova-ix--donut-base/snapshots/a959cf33c20e09215873e338299c900f57047c61/tokenizer.json\n",
      "loading file added_tokens.json from cache at /root/.cache/huggingface/hub/models--naver-clova-ix--donut-base/snapshots/a959cf33c20e09215873e338299c900f57047c61/added_tokens.json\n",
      "loading file sentencepiece.bpe.model from cache at /root/.cache/huggingface/hub/models--naver-clova-ix--donut-base/snapshots/a959cf33c20e09215873e338299c900f57047c61/sentencepiece.bpe.model\n",
      "loading file tokenizer.json from cache at /root/.cache/huggingface/hub/models--naver-clova-ix--donut-base/snapshots/a959cf33c20e09215873e338299c900f57047c61/tokenizer.json\n",
      "loading file added_tokens.json from cache at /root/.cache/huggingface/hub/models--naver-clova-ix--donut-base/snapshots/a959cf33c20e09215873e338299c900f57047c61/added_tokens.json\n",
      "loading file special_tokens_map.json from cache at /root/.cache/huggingface/hub/models--naver-clova-ix--donut-base/snapshots/a959cf33c20e09215873e338299c900f57047c61/special_tokens_map.json\n",
      "loading file special_tokens_map.json from cache at /root/.cache/huggingface/hub/models--naver-clova-ix--donut-base/snapshots/a959cf33c20e09215873e338299c900f57047c61/special_tokens_map.json\n",
      "loading file tokenizer_config.json from cache at /root/.cache/huggingface/hub/models--naver-clova-ix--donut-base/snapshots/a959cf33c20e09215873e338299c900f57047c61/tokenizer_config.json\n",
      "loading file tokenizer_config.json from cache at /root/.cache/huggingface/hub/models--naver-clova-ix--donut-base/snapshots/a959cf33c20e09215873e338299c900f57047c61/tokenizer_config.json\n",
      "tokenizer config file saved in /opt/ml/model/tokenizer_config.json\n",
      "tokenizer config file saved in /opt/ml/model/tokenizer_config.json\n",
      "Special tokens file saved in /opt/ml/model/special_tokens_map.json\n",
      "Special tokens file saved in /opt/ml/model/special_tokens_map.json\n",
      "2023-05-17 19:31:47,917 sagemaker-training-toolkit INFO     Waiting for the process to finish and give a return code.\n",
      "2023-05-17 19:31:47,917 sagemaker-training-toolkit INFO     Done waiting for a return code. Received 0 from exiting process.\n",
      "2023-05-17 19:31:47,918 sagemaker-training-toolkit INFO     Reporting training SUCCESS\n",
      "\n",
      "2023-05-17 19:31:57 Uploading - Uploading generated training model\n",
      "2023-05-17 19:33:43 Completed - Training job completed\n",
      "Training seconds: 1000\n",
      "Billable seconds: 1000\n"
     ]
    },
    {
     "ename": "",
     "evalue": "",
     "output_type": "error",
     "traceback": [
      "\u001b[1;31mThe Kernel crashed while executing code in the the current cell or a previous cell. Please review the code in the cell(s) to identify a possible cause of the failure. Click <a href='https://aka.ms/vscodeJupyterKernelCrash'>here</a> for more info. View Jupyter <a href='command:jupyter.viewOutput'>log</a> for further details."
     ]
    }
   ],
   "source": [
    "# define a data input dictonary with our uploaded s3 uris\n",
    "data = {'training': training_input_path}\n",
    "\n",
    "# starting the train job with our uploaded datasets as input\n",
    "huggingface_estimator.fit(data, wait=True)"
   ]
  },
  {
   "attachments": {},
   "cell_type": "markdown",
   "metadata": {},
   "source": [
    "## 5. Deploy Donut model on Amazon SageMaker\n",
    "\n",
    "During the training we copied a `infernece.py` into out `model.tar.gz` which allows us now to easily deploy our model to SageMaker for inference. \n",
    "The [inference.py](./scripts/inference.py) implements a custom `model_fn` and `predict_fn` for our Donut model. The `model_fn` loads the model and processor and the `predict_fn` tokenizes the input and returns the prediction. \n"
   ]
  },
  {
   "cell_type": "code",
   "execution_count": 114,
   "metadata": {},
   "outputs": [],
   "source": [
    "from sagemaker.huggingface import HuggingFaceModel\n",
    "\n",
    "# create Hugging Face Model Class\n",
    "huggingface_model = HuggingFaceModel(\n",
    "   model_data=huggingface_estimator.model_data,\n",
    "   # model_data=\"\"\n",
    "   role=role, \n",
    "   transformers_version=\"4.26\", \n",
    "   pytorch_version=\"1.13\", \n",
    "   py_version=\"py39\",\n",
    "   model_server_workers=1\n",
    ")"
   ]
  },
  {
   "attachments": {},
   "cell_type": "markdown",
   "metadata": {},
   "source": [
    "Before we can deploy model with the `HuggingFaceModel` class we need to create a new serializer, which supports our image data. The Serializer are used in Predictor and in the `predict` method to serializer our data to a specific `mime-type`. The default serialzier for the `HuggingFacePredcitor` is a `JSON` serializer, but since we are not going to send text data to the endpoint we will use the DataSerializer.\n",
    "\n"
   ]
  },
  {
   "cell_type": "code",
   "execution_count": 115,
   "metadata": {},
   "outputs": [
    {
     "name": "stderr",
     "output_type": "stream",
     "text": [
      "INFO:sagemaker:Creating model with name: huggingface-pytorch-inference-2023-05-17-16-24-56-058\n",
      "INFO:sagemaker:Creating endpoint-config with name huggingface-pytorch-inference-2023-05-17-16-24-56-982\n",
      "INFO:sagemaker:Creating endpoint with name huggingface-pytorch-inference-2023-05-17-16-24-56-982\n"
     ]
    },
    {
     "name": "stdout",
     "output_type": "stream",
     "text": [
      "----------!"
     ]
    }
   ],
   "source": [
    "from sagemaker.serializers import DataSerializer\n",
    "\n",
    "# create a serializer for the data\n",
    "image_serializer = DataSerializer(content_type='image/x-image') # using x-image to support multiple image formats\n",
    "\n",
    "# deploy model to SageMaker Inference\n",
    "predictor = huggingface_model.deploy(\n",
    "   initial_instance_count=1,\n",
    "   instance_type= \"ml.g5.4xlarge\",\n",
    "   serializer=image_serializer, # serializer for our image files.\n",
    ")"
   ]
  },
  {
   "cell_type": "code",
   "execution_count": 1,
   "metadata": {},
   "outputs": [
    {
     "ename": "NameError",
     "evalue": "name 'huggingface_model' is not defined",
     "output_type": "error",
     "traceback": [
      "\u001b[0;31m---------------------------------------------------------------------------\u001b[0m",
      "\u001b[0;31mNameError\u001b[0m                                 Traceback (most recent call last)",
      "\u001b[1;32m/home/ubuntu/notebooks/sagemaker/26_document_ai_donut/sagemaker-notebook.ipynb Cell 32\u001b[0m in \u001b[0;36m1\n\u001b[0;32m----> <a href='vscode-notebook-cell://ssh-remote%2Bc6i/home/ubuntu/notebooks/sagemaker/26_document_ai_donut/sagemaker-notebook.ipynb#Y142sdnNjb2RlLXJlbW90ZQ%3D%3D?line=0'>1</a>\u001b[0m huggingface_model\n",
      "\u001b[0;31mNameError\u001b[0m: name 'huggingface_model' is not defined"
     ]
    }
   ],
   "source": [
    "huggingface_model"
   ]
  },
  {
   "attachments": {},
   "cell_type": "markdown",
   "metadata": {},
   "source": [
    "SageMaker starts the deployment process by creating a SageMaker Endpoint Configuration and a SageMaker Endpoint. The Endpoint Configuration defines the model and the instance type.\n",
    "\n",
    "Lets test by using a example from the `test` split."
   ]
  },
  {
   "cell_type": "code",
   "execution_count": 23,
   "metadata": {},
   "outputs": [],
   "source": [
    "from PIL import Image\n",
    "import io\n",
    "from random import randrange\n",
    "from transformers.image_transforms import to_pil_image\n",
    "import numpy as np \n",
    "test_sample = processed_dataset[\"test\"][randrange(0,len(processed_dataset[\"test\"]))]\n",
    "\n",
    "image = to_pil_image(np.array(test_sample[\"pixel_values\"])).resize((350,600))\n",
    "\n",
    "\n",
    "def image_to_byte_array(image: Image) -> bytes:\n",
    "  # BytesIO is a file-like buffer stored in memory\n",
    "  img_byte_arr = io.BytesIO()\n",
    "  # image.save expects a file-like as a argument\n",
    "  image.save(img_byte_arr, format=image.format)\n",
    "  # Turn the BytesIO object back into a bytes object\n",
    "  return img_byte_arr.getvalue()\n"
   ]
  },
  {
   "cell_type": "code",
   "execution_count": 117,
   "metadata": {},
   "outputs": [
    {
     "data": {
      "text/html": [
       "<pre style=\"white-space:pre;overflow-x:auto;line-height:normal;font-family:Menlo,'DejaVu Sans Mono',consolas,'Courier New',monospace\"><span style=\"color: #800000; text-decoration-color: #800000\">╭─────────────────────────────── </span><span style=\"color: #800000; text-decoration-color: #800000; font-weight: bold\">Traceback </span><span style=\"color: #bf7f7f; text-decoration-color: #bf7f7f; font-weight: bold\">(most recent call last)</span><span style=\"color: #800000; text-decoration-color: #800000\"> ────────────────────────────────╮</span>\n",
       "<span style=\"color: #800000; text-decoration-color: #800000\">│</span> <span style=\"color: #bfbf7f; text-decoration-color: #bfbf7f\">/tmp/ipykernel_46093/</span><span style=\"color: #808000; text-decoration-color: #808000; font-weight: bold\">200735041.py</span>:<span style=\"color: #0000ff; text-decoration-color: #0000ff\">2</span> in <span style=\"color: #00ff00; text-decoration-color: #00ff00\">&lt;module&gt;</span>                                                  <span style=\"color: #800000; text-decoration-color: #800000\">│</span>\n",
       "<span style=\"color: #800000; text-decoration-color: #800000\">│</span>                                                                                                  <span style=\"color: #800000; text-decoration-color: #800000\">│</span>\n",
       "<span style=\"color: #800000; text-decoration-color: #800000\">│</span> <span style=\"color: #800000; text-decoration-color: #800000; font-style: italic\">[Errno 2] No such file or directory: '/tmp/ipykernel_46093/200735041.py'</span>                         <span style=\"color: #800000; text-decoration-color: #800000\">│</span>\n",
       "<span style=\"color: #800000; text-decoration-color: #800000\">╰──────────────────────────────────────────────────────────────────────────────────────────────────╯</span>\n",
       "<span style=\"color: #ff0000; text-decoration-color: #ff0000; font-weight: bold\">ImportError: </span>cannot import name <span style=\"color: #008000; text-decoration-color: #008000\">'np'</span> from <span style=\"color: #008000; text-decoration-color: #008000\">'numpy'</span> \n",
       "<span style=\"font-weight: bold\">(</span><span style=\"color: #800080; text-decoration-color: #800080\">/home/ubuntu/miniconda3/envs/dev/lib/python3.9/site-packages/numpy/</span><span style=\"color: #ff00ff; text-decoration-color: #ff00ff\">__init__.py</span><span style=\"font-weight: bold\">)</span>\n",
       "</pre>\n"
      ],
      "text/plain": [
       "\u001b[31m╭─\u001b[0m\u001b[31m──────────────────────────────\u001b[0m\u001b[31m \u001b[0m\u001b[1;31mTraceback \u001b[0m\u001b[1;2;31m(most recent call last)\u001b[0m\u001b[31m \u001b[0m\u001b[31m───────────────────────────────\u001b[0m\u001b[31m─╮\u001b[0m\n",
       "\u001b[31m│\u001b[0m \u001b[2;33m/tmp/ipykernel_46093/\u001b[0m\u001b[1;33m200735041.py\u001b[0m:\u001b[94m2\u001b[0m in \u001b[92m<module>\u001b[0m                                                  \u001b[31m│\u001b[0m\n",
       "\u001b[31m│\u001b[0m                                                                                                  \u001b[31m│\u001b[0m\n",
       "\u001b[31m│\u001b[0m \u001b[3;31m[Errno 2] No such file or directory: '/tmp/ipykernel_46093/200735041.py'\u001b[0m                         \u001b[31m│\u001b[0m\n",
       "\u001b[31m╰──────────────────────────────────────────────────────────────────────────────────────────────────╯\u001b[0m\n",
       "\u001b[1;91mImportError: \u001b[0mcannot import name \u001b[32m'np'\u001b[0m from \u001b[32m'numpy'\u001b[0m \n",
       "\u001b[1m(\u001b[0m\u001b[35m/home/ubuntu/miniconda3/envs/dev/lib/python3.9/site-packages/numpy/\u001b[0m\u001b[95m__init__.py\u001b[0m\u001b[1m)\u001b[0m\n"
      ]
     },
     "metadata": {},
     "output_type": "display_data"
    }
   ],
   "source": [
    "  \n",
    "res = predictor.predict(data=image_to_byte_array(image))\n",
    "\n",
    "print(f\"Reference:\\n {test_sample['target_sequence']}\")\n",
    "print(f\"Prediction:\\n {res}\")\n",
    "image"
   ]
  },
  {
   "attachments": {},
   "cell_type": "markdown",
   "metadata": {},
   "source": [
    "Awesome!! Our fine-tuned model parsed the document correctly and extracted the right values. The next step is to evalute our model on the test set. Since the model itself is a seq2seq is not that straightforward to evaluate. \n",
    "\n",
    "To keep things simple we will use `rogue` short for Recall-Oriented Understudy for Gisting Evaluation. This metric does not behave like the standard accuracy: it will compare a generated text against a set of reference text. The rogue score is mostly used for summarization or machine translation tasks. "
   ]
  },
  {
   "cell_type": "code",
   "execution_count": null,
   "metadata": {},
   "outputs": [],
   "source": [
    "!pip install rouge-score py7zr"
   ]
  },
  {
   "cell_type": "code",
   "execution_count": null,
   "metadata": {},
   "outputs": [],
   "source": [
    "import evaluate\n",
    "from tqdm import tqdm\n",
    "\n",
    "# Metric\n",
    "rogue = evaluate.load(\"rouge\")\n",
    "\n",
    "predictions, references = [], []\n",
    "# iterate over dataset\n",
    "for sample in tqdm(processed_dataset[\"test\"]):\n",
    "  reference = sample[\"target_sequence\"]\n",
    "  image = sample[\"pixel_values\"].unsqueeze(0)\n",
    "  prediction = predictor.predict(data=image)\n",
    "  \n",
    "  predictions.append(json.dumps(prediction))\n",
    "  references.append(json.dumps(reference))\n",
    "  \n",
    "# compute scores\n",
    "results = rogue.compute(predictions=predictions,references=references)\n",
    "print(results)"
   ]
  },
  {
   "cell_type": "markdown",
   "metadata": {},
   "source": [
    "Our model achieves an accuracy of `75%` on the test set. \n",
    "\n",
    "_Note: The evaluation we did was very simple and only valued exact string matches as \"truthy\" for each key of the dictonary, is a big bias for the evaluation. Meaning that a accuracy of `75%` is pretty good._\n",
    "\n",
    "Our first inference test is an excellent example of why this metric is biased. There the model predicted for the `address` the value `NO. 31G&33G, JALAN SETIA INDAH X ,U13/X 40170 SETIA ALAM` and the ground truth was `'NO. 31G&33G, JALAN SETIA INDAH X,U13/X 40170 SETIA ALAM'`, where the only difference is the ` ` whitespace in between `X` and `,U13/X`. \n",
    "In our evaluation loop, this was not counted as a truthy value.\n"
   ]
  },
  {
   "cell_type": "markdown",
   "metadata": {},
   "source": []
  }
 ],
 "metadata": {
  "kernelspec": {
   "display_name": "Python 3.9.13 ('dev': conda)",
   "language": "python",
   "name": "python3"
  },
  "language_info": {
   "codemirror_mode": {
    "name": "ipython",
    "version": 3
   },
   "file_extension": ".py",
   "mimetype": "text/x-python",
   "name": "python",
   "nbconvert_exporter": "python",
   "pygments_lexer": "ipython3",
   "version": "3.9.13"
  },
  "orig_nbformat": 4,
  "vscode": {
   "interpreter": {
    "hash": "f6dd96c16031089903d5a31ec148b80aeb0d39c32affb1a1080393235fbfa2fc"
   }
  }
 },
 "nbformat": 4,
 "nbformat_minor": 2
}
